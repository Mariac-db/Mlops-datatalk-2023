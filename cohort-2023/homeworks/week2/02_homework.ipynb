{
 "cells": [
  {
   "cell_type": "code",
   "execution_count": 3,
   "metadata": {},
   "outputs": [],
   "source": [
    "import pandas as pd\n",
    "import numpy as np \n",
    "import mlflow\n"
   ]
  },
  {
   "cell_type": "markdown",
   "metadata": {},
   "source": [
    "## Homework\n",
    "The goal of this homework is to get familiar with tools like MLflow for experiment tracking and model management.\n",
    "\n",
    "Q1. Install the package\n",
    "To get started with MLflow you'll need to install the appropriate Python package.\n",
    "\n",
    "For this we recommend creating a separate Python environment, for example, you can use conda environments, and then install the package there with pip or conda.\n",
    "\n",
    "Once you installed the package, run the command mlflow --version and check the output.\n",
    "\n",
    "What's the version that you have?"
   ]
  },
  {
   "cell_type": "code",
   "execution_count": 1,
   "metadata": {},
   "outputs": [
    {
     "name": "stdout",
     "output_type": "stream",
     "text": [
      "mlflow, version 2.3.2\n"
     ]
    }
   ],
   "source": [
    "!mlflow --version # lo ideal es 1.26.4 porque mi versión no tiene integrada muchos modulos que trabajan en versiones anteriores, so, lección learned. \n"
   ]
  },
  {
   "cell_type": "markdown",
   "metadata": {},
   "source": [
    "## Q2. Download and preprocess the data\n",
    "We'll use the Green Taxi Trip Records dataset to predict the amount of tips for each trip.\n",
    "\n",
    "Download the data for January, February and March 2022 in parquet format from here.\n",
    "\n",
    "Use the script preprocess_data.py located in the folder homework to preprocess the data.\n",
    "\n",
    "The script will:\n",
    "\n",
    "load the data from the folder <TAXI_DATA_FOLDER> (the folder where you have downloaded the data),\n",
    "fit a DictVectorizer on the training set (January 2022 data),\n",
    "save the preprocessed datasets and the DictVectorizer to disk.\n",
    "Your task is to download the datasets and then execute this command:\n",
    "\n"
   ]
  },
  {
   "cell_type": "code",
   "execution_count": null,
   "metadata": {},
   "outputs": [],
   "source": [
    "# (mlops) mdurango$ python preprocess_data.py --raw_data_path data/ --dest_path output/ DONE! "
   ]
  },
  {
   "cell_type": "code",
   "execution_count": 8,
   "metadata": {},
   "outputs": [
    {
     "data": {
      "text/plain": "150.05859375"
     },
     "execution_count": 8,
     "metadata": {},
     "output_type": "execute_result"
    }
   ],
   "source": [
    "\n",
    "os.path.getsize(os.path.join(os.getcwd(), \"output\", \"dv.pkl\"))/ 1024\n",
    "# aprox 154 kB"
   ]
  },
  {
   "cell_type": "markdown",
   "metadata": {},
   "source": [
    "## Q3. Train a model with autolog\n",
    "We will train a RandomForestRegressor (from Scikit-Learn) on the taxi dataset.\n",
    "\n",
    "We have prepared the training script train.py for this exercise, which can be also found in the folder homework.\n",
    "\n",
    "The script will:\n",
    "\n",
    "load the datasets produced by the previous step,\n",
    "train the model on the training set,\n",
    "calculate the RMSE score on the validation set.\n",
    "Your task is to modify the script to enable autologging with MLflow, execute the script and then launch the MLflow UI to check that the experiment run was properly tracked.\n",
    "\n",
    "Tip 1: don't forget to wrap the training code with a with mlflow.start_run(): statement as we showed in the videos.\n",
    "\n",
    "Tip 2: don't modify the hyperparameters of the model to make sure that the training will finish quickly.\n",
    "\n",
    "What is the value of the max_depth parameter:\n",
    "\n",
    "* 4\n",
    "* 6\n",
    "* 8\n",
    "* 10"
   ]
  },
  {
   "cell_type": "code",
   "execution_count": 10,
   "metadata": {},
   "outputs": [
    {
     "name": "stdout",
     "output_type": "stream",
     "text": [
      "Start training ...\n",
      "rmse: 6.121103017486401\n"
     ]
    }
   ],
   "source": [
    "!python train.py --data_path output\n",
    "\n",
    "# !mlflow ui --backend-store-uri file://$(pwd)/random-forest-experiments"
   ]
  },
  {
   "cell_type": "code",
   "execution_count": 4,
   "metadata": {},
   "outputs": [],
   "source": [
    "client = mlflow.tracking.MlflowClient(tracking_uri = \"/Users/mdurango/Documents/Mlops-datatalk-2023/cohort-2023/homeworks/week2/random-forest-experiments\")\n",
    "experiment = client.get_experiment_by_name('homework2')"
   ]
  },
  {
   "cell_type": "code",
   "execution_count": 17,
   "metadata": {},
   "outputs": [
    {
     "data": {
      "text/plain": "<Experiment: artifact_location='/Users/mdurango/Documents/Mlops-datatalk-2023/cohort-2023/homeworks/week2/random-forest-experiments/0', creation_time=1685579503133, experiment_id='0', last_update_time=1685579960848, lifecycle_stage='active', name='homework2', tags={}>"
     },
     "execution_count": 17,
     "metadata": {},
     "output_type": "execute_result"
    }
   ],
   "source": [
    "experiment"
   ]
  },
  {
   "cell_type": "code",
   "execution_count": 18,
   "metadata": {},
   "outputs": [
    {
     "data": {
      "text/plain": "'0'"
     },
     "execution_count": 18,
     "metadata": {},
     "output_type": "execute_result"
    }
   ],
   "source": [
    "experiment.experiment_id"
   ]
  },
  {
   "cell_type": "code",
   "execution_count": 19,
   "metadata": {},
   "outputs": [],
   "source": [
    "runs = client.search_runs(experiment_ids=[experiment.experiment_id])"
   ]
  },
  {
   "cell_type": "code",
   "execution_count": 21,
   "metadata": {},
   "outputs": [
    {
     "name": "stdout",
     "output_type": "stream",
     "text": [
      "Ejecución ID: 2fa77934104244cd9e3d87e103e8759e\n",
      "Parámetros registrados:\n",
      "bootstrap: True\n",
      "max_depth: 10\n",
      "max_samples: None\n",
      "min_weight_fraction_leaf: 0.0\n",
      "max_leaf_nodes: None\n",
      "min_samples_leaf: 1\n",
      "random_state: 0\n",
      "min_impurity_decrease: 0.0\n",
      "verbose: 0\n",
      "n_estimators: 100\n",
      "criterion: squared_error\n",
      "oob_score: False\n",
      "ccp_alpha: 0.0\n",
      "warm_start: False\n",
      "max_features: 1.0\n",
      "n_jobs: None\n",
      "min_samples_split: 2\n",
      "-----------------------\n"
     ]
    }
   ],
   "source": [
    "for run in runs:\n",
    "    print(\"Ejecución ID:\", run.info.run_id)\n",
    "    print(\"Parámetros registrados:\")\n",
    "    for key, value in run.data.params.items():\n",
    "        print(f\"{key}: {value}\")\n",
    "    print(\"-----------------------\")\n",
    "\n",
    "# la respuesta está en tu corazón, broma broma... es 10 8) "
   ]
  },
  {
   "cell_type": "markdown",
   "metadata": {},
   "source": [
    "## Launch the tracking server locally for MLflow\n",
    "\n",
    "Now we want to manage the entire lifecycle of our ML model. In this step, you'll need to launch a tracking server. This way we will also have access to the model registry.\n",
    "\n",
    "In case of MLflow, you need to:\n",
    "\n",
    "launch the tracking server on your local machine,\n",
    "select a SQLite db for the backend store and a folder called artifacts for the artifacts store.\n",
    "You should keep the tracking server running to work on the next three exercises that use the server."
   ]
  },
  {
   "cell_type": "code",
   "execution_count": null,
   "metadata": {},
   "outputs": [],
   "source": [
    "# !mlflow server --backend-store-uri \"sqlite:///mlflow.db\" --default-artifact-root \"./artifacts\""
   ]
  },
  {
   "cell_type": "markdown",
   "metadata": {},
   "source": [
    "## Question 5. Tune the hyperparameters of the model\n",
    "\n",
    "Your task is to modify the script hpo.py and make sure that the validation RMSE is logged to MLflow for each run of the hyperparameter optimization (you will need to add a few lines of code to the objective function) and run the script without passing any parameters."
   ]
  },
  {
   "cell_type": "code",
   "execution_count": 6,
   "metadata": {},
   "outputs": [
    {
     "data": {
      "text/plain": "'410122080002736892'"
     },
     "execution_count": 6,
     "metadata": {},
     "output_type": "execute_result"
    }
   ],
   "source": [
    "experiment2 = client.get_experiment_by_name('random-forest-hyperopt')\n",
    "experiment2.experiment_id"
   ]
  },
  {
   "cell_type": "code",
   "execution_count": 9,
   "metadata": {},
   "outputs": [],
   "source": [
    "runs = client.search_runs(experiment_ids=[experiment2.experiment_id])\n",
    "\n"
   ]
  },
  {
   "cell_type": "code",
   "execution_count": 14,
   "metadata": {},
   "outputs": [
    {
     "name": "stdout",
     "output_type": "stream",
     "text": [
      "Ejecución ID: 3d4c7b9a8dbb41a488e6514d7f00deae\n",
      "Parámetros registrados:\n",
      "Ejecución ID: ac5abfb313654ef396d43ba3f0439f48\n",
      "Parámetros registrados:\n",
      "Ejecución ID: 917e6477780044b094bd89e4deae7604\n",
      "Parámetros registrados:\n",
      "Ejecución ID: 92321cbcb8324494a79f176e4d2ff64a\n",
      "Parámetros registrados:\n",
      "Ejecución ID: 2fd508fc137b40f9b3c3d357241790f2\n",
      "Parámetros registrados:\n",
      "Ejecución ID: 83f9378c6f284e53a86ded18da4f330a\n",
      "Parámetros registrados:\n",
      "Ejecución ID: 504f7a1428fc41cbb3c11b7a6032c1a3\n",
      "Parámetros registrados:\n",
      "Ejecución ID: 8367193f3d57480fa2e272975c06846d\n",
      "Parámetros registrados:\n",
      "Ejecución ID: 901818a689914b7ebf86ddbdcb7b15b1\n",
      "Parámetros registrados:\n",
      "Ejecución ID: aaa7fb77e88c4019b590fca879457224\n",
      "Parámetros registrados:\n",
      "Ejecución ID: 3d18002022cc4f5f8508596456669448\n",
      "Parámetros registrados:\n",
      "Ejecución ID: ed85ff1d05c84374a606e6cef1842c9f\n",
      "Parámetros registrados:\n",
      "Ejecución ID: d778748388c24e2b8abe41338dff524e\n",
      "Parámetros registrados:\n",
      "Ejecución ID: b47ce3879ff24bd6b4be53303bd91708\n",
      "Parámetros registrados:\n",
      "Ejecución ID: 39cde7bff5f847f69de5ddd8738ed0ad\n",
      "Parámetros registrados:\n",
      "Ejecución ID: b7c6787cb9a3475ead9cfee1a65a5e89\n",
      "Parámetros registrados:\n",
      "Ejecución ID: dd6e6d7b8e8f49ddadc3f0d4a899ca6f\n",
      "Parámetros registrados:\n",
      "Ejecución ID: 40b504cda4434e98ae6d2e21dcef4c80\n",
      "Parámetros registrados:\n",
      "Ejecución ID: 3b4fc48a8b1f45b7aceba4ca22d840f2\n",
      "Parámetros registrados:\n",
      "Ejecución ID: 985cbaf8c8b8472a8d7f0bd3b3a57eac\n",
      "Parámetros registrados:\n",
      "Ejecución ID: 79e4a3aa212345839efae8176db3be03\n",
      "Parámetros registrados:\n",
      "Ejecución ID: a57820d8a461405ab4bf6edba5560417\n",
      "Parámetros registrados:\n",
      "Ejecución ID: fff8d221abdd4fa58f3817813561782e\n",
      "Parámetros registrados:\n",
      "Ejecución ID: 6ce0fe7ccadc4189b9ed612f4adf3888\n",
      "Parámetros registrados:\n",
      "Ejecución ID: 5e83bc3d34e74a41ae63fdab65306bf6\n",
      "Parámetros registrados:\n",
      "Ejecución ID: c6e28012fc7d432eb6f92700834ff71e\n",
      "Parámetros registrados:\n",
      "Ejecución ID: f7416dd257d4467b8a858bd6823c95b3\n",
      "Parámetros registrados:\n",
      "Ejecución ID: d026a73bfac548f8b591a673ab2a0edc\n",
      "Parámetros registrados:\n",
      "Ejecución ID: 1c2d0c5132bf4e49b4bd4b4ff7f3905d\n",
      "Parámetros registrados:\n",
      "Ejecución ID: 34136a09a32d4ef39d51f96dd0b5905e\n",
      "Parámetros registrados:\n",
      "Ejecución ID: 7ea95d1a28d84eef9a4db3b6cd6d5a0d\n",
      "Parámetros registrados:\n",
      "Ejecución ID: 0de9accfa7754dcd987da06821c2d41d\n",
      "Parámetros registrados:\n",
      "Ejecución ID: 40f05b49861a4455b13585dc6252b9d0\n",
      "Parámetros registrados:\n",
      "Ejecución ID: e4c85862770d4fd3ac841c9ab8649011\n",
      "Parámetros registrados:\n",
      "Ejecución ID: d91af17479804d5195659f99ea4094a6\n",
      "Parámetros registrados:\n",
      "Ejecución ID: 687d7bf277ee4237b11096f86edeef62\n",
      "Parámetros registrados:\n",
      "Ejecución ID: 8919760cda76401599bd914baa538d18\n",
      "Parámetros registrados:\n",
      "Ejecución ID: 3a9dbe7302a943f4a73339b35958e4dc\n",
      "Parámetros registrados:\n",
      "Ejecución ID: ec5e1c253ef245478554fb9a89f70ac2\n",
      "Parámetros registrados:\n",
      "Ejecución ID: 8af94011a0f74e779e269e18e851a6ce\n",
      "Parámetros registrados:\n",
      "Ejecución ID: 34c673c4a5a342e082c5e81b31d1bb07\n",
      "Parámetros registrados:\n",
      "Ejecución ID: 39af398d7b804a93984b0510cd98a295\n",
      "Parámetros registrados:\n",
      "Ejecución ID: b9ed28bddc474aa3b26e996ea14f4f93\n",
      "Parámetros registrados:\n",
      "Ejecución ID: 4aebe3d49fe540698d0cad43206f0ffa\n",
      "Parámetros registrados:\n",
      "Ejecución ID: a894929855c848009d01e36010eff2e2\n",
      "Parámetros registrados:\n",
      "Ejecución ID: 523038b24b39475d9db232c0363143a0\n",
      "Parámetros registrados:\n",
      "Ejecución ID: f33062f6e80947728615d572c492552e\n",
      "Parámetros registrados:\n",
      "Ejecución ID: fd21e7564259489f920fa2ee01d0d8cf\n",
      "Parámetros registrados:\n",
      "Ejecución ID: b6065f57345d4d0daab31f5d3c069648\n",
      "Parámetros registrados:\n",
      "Ejecución ID: cb6b6175ad0146e6b3177ce480578c9d\n",
      "Parámetros registrados:\n"
     ]
    }
   ],
   "source": [
    "rmses = []\n",
    "for run in runs:\n",
    "    print(\"Ejecución ID:\", run.info.run_id)\n",
    "    print(\"Parámetros registrados:\")\n",
    "    for key, value in run.data.metrics.items():\n",
    "        rmses.append(value)\n",
    "    \n",
    "\n",
    "\n"
   ]
  },
  {
   "cell_type": "code",
   "execution_count": 18,
   "metadata": {},
   "outputs": [
    {
     "data": {
      "text/plain": "6.017362308837179"
     },
     "execution_count": 18,
     "metadata": {},
     "output_type": "execute_result"
    }
   ],
   "source": [
    "rmses = np.array(rmses)\n",
    "np.sort(rmses)[0]\n",
    "# wtf ?? :o \n"
   ]
  },
  {
   "cell_type": "code",
   "execution_count": null,
   "metadata": {},
   "outputs": [],
   "source": []
  }
 ],
 "metadata": {
  "kernelspec": {
   "display_name": "Python 3.8.16 64-bit ('mlops': conda)",
   "metadata": {
    "interpreter": {
     "hash": "2cb7cb136e60a6799112a683ef2b539b1269bfab8788aa7a8523af210a00ceec"
    }
   },
   "name": "python3"
  },
  "language_info": {
   "codemirror_mode": {
    "name": "ipython",
    "version": 3
   },
   "file_extension": ".py",
   "mimetype": "text/x-python",
   "name": "python",
   "nbconvert_exporter": "python",
   "pygments_lexer": "ipython3",
   "version": "3.8.16-final"
  },
  "orig_nbformat": 2
 },
 "nbformat": 4,
 "nbformat_minor": 2
}