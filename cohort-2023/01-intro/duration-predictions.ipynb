{
 "cells": [
  {
   "cell_type": "markdown",
   "metadata": {},
   "source": [
    "## Mlops - introduction\n",
    "\n"
   ]
  },
  {
   "cell_type": "code",
   "execution_count": 61,
   "metadata": {},
   "outputs": [],
   "source": [
    "import pandas as pd\n",
    "import pickle\n",
    "import seaborn as sns\n",
    "import matplotlib.pyplot as plt\n",
    "from sklearn.feature_extraction import DictVectorizer\n",
    "from sklearn.linear_model import LinearRegression\n",
    "from sklearn.linear_model import Lasso\n",
    "from sklearn.linear_model import Ridge\n",
    "from sklearn.metrics import mean_squared_error\n"
   ]
  },
  {
   "cell_type": "code",
   "execution_count": 62,
   "metadata": {},
   "outputs": [],
   "source": [
    "df = pd.read_parquet('./data/yellow_tripdata_2012-01.parquet')\n"
   ]
  },
  {
   "cell_type": "code",
   "execution_count": 63,
   "metadata": {},
   "outputs": [
    {
     "output_type": "execute_result",
     "data": {
      "text/plain": [
       "   VendorID tpep_pickup_datetime tpep_dropoff_datetime  passenger_count   \n",
       "0         1  2012-01-01 00:07:56   2012-01-01 00:12:09                1  \\\n",
       "1         1  2012-01-01 00:18:49   2012-01-01 00:30:01                1   \n",
       "2         1  2012-01-01 00:31:38   2012-01-01 00:46:05                1   \n",
       "\n",
       "   trip_distance  RatecodeID store_and_fwd_flag  PULocationID  DOLocationID   \n",
       "0            0.9           1                  N           158           231  \\\n",
       "1            2.3           1                  N           231           164   \n",
       "2            2.2           1                  N           164           148   \n",
       "\n",
       "   payment_type  fare_amount  extra  mta_tax  tip_amount  tolls_amount   \n",
       "0             2          4.9    0.5      0.5         0.0           0.0  \\\n",
       "1             2          8.5    0.5      0.5         0.0           0.0   \n",
       "2             2          9.3    0.5      0.5         0.0           0.0   \n",
       "\n",
       "   improvement_surcharge  total_amount congestion_surcharge airport_fee  \n",
       "0                    0.0           5.9                 None        None  \n",
       "1                    0.0           9.5                 None        None  \n",
       "2                    0.0          10.3                 None        None  "
      ],
      "text/html": "<div>\n<style scoped>\n    .dataframe tbody tr th:only-of-type {\n        vertical-align: middle;\n    }\n\n    .dataframe tbody tr th {\n        vertical-align: top;\n    }\n\n    .dataframe thead th {\n        text-align: right;\n    }\n</style>\n<table border=\"1\" class=\"dataframe\">\n  <thead>\n    <tr style=\"text-align: right;\">\n      <th></th>\n      <th>VendorID</th>\n      <th>tpep_pickup_datetime</th>\n      <th>tpep_dropoff_datetime</th>\n      <th>passenger_count</th>\n      <th>trip_distance</th>\n      <th>RatecodeID</th>\n      <th>store_and_fwd_flag</th>\n      <th>PULocationID</th>\n      <th>DOLocationID</th>\n      <th>payment_type</th>\n      <th>fare_amount</th>\n      <th>extra</th>\n      <th>mta_tax</th>\n      <th>tip_amount</th>\n      <th>tolls_amount</th>\n      <th>improvement_surcharge</th>\n      <th>total_amount</th>\n      <th>congestion_surcharge</th>\n      <th>airport_fee</th>\n    </tr>\n  </thead>\n  <tbody>\n    <tr>\n      <th>0</th>\n      <td>1</td>\n      <td>2012-01-01 00:07:56</td>\n      <td>2012-01-01 00:12:09</td>\n      <td>1</td>\n      <td>0.9</td>\n      <td>1</td>\n      <td>N</td>\n      <td>158</td>\n      <td>231</td>\n      <td>2</td>\n      <td>4.9</td>\n      <td>0.5</td>\n      <td>0.5</td>\n      <td>0.0</td>\n      <td>0.0</td>\n      <td>0.0</td>\n      <td>5.9</td>\n      <td>None</td>\n      <td>None</td>\n    </tr>\n    <tr>\n      <th>1</th>\n      <td>1</td>\n      <td>2012-01-01 00:18:49</td>\n      <td>2012-01-01 00:30:01</td>\n      <td>1</td>\n      <td>2.3</td>\n      <td>1</td>\n      <td>N</td>\n      <td>231</td>\n      <td>164</td>\n      <td>2</td>\n      <td>8.5</td>\n      <td>0.5</td>\n      <td>0.5</td>\n      <td>0.0</td>\n      <td>0.0</td>\n      <td>0.0</td>\n      <td>9.5</td>\n      <td>None</td>\n      <td>None</td>\n    </tr>\n    <tr>\n      <th>2</th>\n      <td>1</td>\n      <td>2012-01-01 00:31:38</td>\n      <td>2012-01-01 00:46:05</td>\n      <td>1</td>\n      <td>2.2</td>\n      <td>1</td>\n      <td>N</td>\n      <td>164</td>\n      <td>148</td>\n      <td>2</td>\n      <td>9.3</td>\n      <td>0.5</td>\n      <td>0.5</td>\n      <td>0.0</td>\n      <td>0.0</td>\n      <td>0.0</td>\n      <td>10.3</td>\n      <td>None</td>\n      <td>None</td>\n    </tr>\n  </tbody>\n</table>\n</div>"
     },
     "metadata": {},
     "execution_count": 63
    }
   ],
   "source": [
    "df.head(3)"
   ]
  },
  {
   "cell_type": "code",
   "execution_count": 64,
   "metadata": {},
   "outputs": [
    {
     "output_type": "execute_result",
     "data": {
      "text/plain": [
       "(13058348, 19)"
      ]
     },
     "metadata": {},
     "execution_count": 64
    }
   ],
   "source": [
    "df.shape"
   ]
  },
  {
   "cell_type": "code",
   "execution_count": 65,
   "metadata": {},
   "outputs": [],
   "source": [
    "df[\"duration\"] = df.tpep_dropoff_datetime - df.tpep_pickup_datetime\n",
    "df.duration = df.duration.apply(lambda td: td.total_seconds() / 60) #take time in minuts"
   ]
  },
  {
   "cell_type": "code",
   "execution_count": 66,
   "metadata": {},
   "outputs": [
    {
     "output_type": "execute_result",
     "data": {
      "text/plain": [
       "VendorID                          int64\n",
       "tpep_pickup_datetime     datetime64[ns]\n",
       "tpep_dropoff_datetime    datetime64[ns]\n",
       "passenger_count                   int64\n",
       "trip_distance                   float64\n",
       "RatecodeID                        int64\n",
       "store_and_fwd_flag               object\n",
       "PULocationID                      int64\n",
       "DOLocationID                      int64\n",
       "payment_type                      int64\n",
       "fare_amount                     float64\n",
       "extra                           float64\n",
       "mta_tax                         float64\n",
       "tip_amount                      float64\n",
       "tolls_amount                    float64\n",
       "improvement_surcharge           float64\n",
       "total_amount                    float64\n",
       "congestion_surcharge             object\n",
       "airport_fee                      object\n",
       "duration                        float64\n",
       "dtype: object"
      ]
     },
     "metadata": {},
     "execution_count": 66
    }
   ],
   "source": [
    "df.dtypes"
   ]
  },
  {
   "cell_type": "code",
   "execution_count": 67,
   "metadata": {},
   "outputs": [],
   "source": [
    "df = df[(df.duration >= 1) & (df.duration <= 60)]"
   ]
  },
  {
   "cell_type": "code",
   "execution_count": 68,
   "metadata": {},
   "outputs": [],
   "source": [
    "# PULocationID tlc taxi zon ein which the taximeter was engaged (se activa taximetro)\n",
    "# DOLocationID tlc tazin in zone which the taximeter was disengaded (se desactivó taximetro)\n",
    "categorical = [\"PULocationID\", \"DOLocationID\"]\n",
    "numerical = [\"trip_distance\"]\n",
    "df[categorical] = df[categorical].astype(str)\n",
    "\n"
   ]
  },
  {
   "cell_type": "code",
   "execution_count": 69,
   "metadata": {},
   "outputs": [],
   "source": [
    "from sklearn.feature_extraction import DictVectorizer\n",
    "\n",
    "# Ejemplo de datos en forma de lista de diccionarios\n",
    "datos = [\n",
    "    {'género': 'masculino', 'edad': 25, 'ingreso': 40000},\n",
    "    {'género': 'femenino', 'edad': 30, 'ingreso': 60000},\n",
    "    {'género': 'femenino', 'edad': 35, 'ingreso': 80000},\n",
    "    {'género': 'masculino', 'edad': 40, 'ingreso': 50000}\n",
    "]\n",
    "\n",
    "# Crear una instancia de DictVectorizer\n",
    "vectorizador = DictVectorizer()\n",
    "\n",
    "# Aplicar DictVectorizer a los datos\n",
    "datos_transformados = vectorizador.fit_transform(datos)\n",
    "\n",
    "# Obtener la matriz numérica resultante\n",
    "matriz_numerica = datos_transformados.toarray()"
   ]
  },
  {
   "cell_type": "code",
   "execution_count": 70,
   "metadata": {},
   "outputs": [
    {
     "output_type": "execute_result",
     "data": {
      "text/plain": [
       "array([[2.5e+01, 0.0e+00, 1.0e+00, 4.0e+04],\n",
       "       [3.0e+01, 1.0e+00, 0.0e+00, 6.0e+04],\n",
       "       [3.5e+01, 1.0e+00, 0.0e+00, 8.0e+04],\n",
       "       [4.0e+01, 0.0e+00, 1.0e+00, 5.0e+04]])"
      ]
     },
     "metadata": {},
     "execution_count": 70
    }
   ],
   "source": [
    "matriz_numerica"
   ]
  },
  {
   "cell_type": "code",
   "execution_count": 71,
   "metadata": {},
   "outputs": [],
   "source": [
    "#In summary, DictVectorizer is useful when we work with categorical or textual features in our data,\n",
    "# we need to convert them into numerical features to apply machine learning algorithms\n",
    "dv = DictVectorizer()\n",
    "\n",
    "train_dicts = df[categorical + numerical].to_dict(orient= \"records\")\n",
    "\n",
    "#.to_dict(orient=\"records\"): el método to_dict() se utiliza para convertir el DataFrame en un diccionario. \n",
    "# El argumento orient=\"records\" especifica el formato del diccionario de salida. En este caso, el orientamiento se establece en \"records\", \n",
    "# lo que significa que cada fila del DataFrame se convierte en un diccionario separado en la lista resultante.\n",
    "#El resultado de esta línea de código es la variable train_dicts, que es una lista de diccionarios. Cada diccionario representa una fila del DataFrame original df, donde las claves del #diccionario son los nombres de las columnas y los valores son los valores correspondientes en cada fila.\n",
    "\n",
    "#Esta transformación de DataFrame a una lista de diccionarios es útil cuando se trabaja con bibliotecas de aprendizaje automático que requieren que los datos estén en formato de diccionario, \n",
    "# como scikit-learn. Permite pasar los datos en una estructura más flexible y fácilmente interpretable por los algoritmos de aprendizaje automático.\n",
    "\n",
    "\n",
    "\n",
    "\n",
    "\n",
    "\n"
   ]
  },
  {
   "cell_type": "code",
   "execution_count": 72,
   "metadata": {},
   "outputs": [
    {
     "output_type": "execute_result",
     "data": {
      "text/plain": [
       "{'PULocationID': '158', 'DOLocationID': '231', 'trip_distance': 0.9}"
      ]
     },
     "metadata": {},
     "execution_count": 72
    }
   ],
   "source": [
    "train_dicts[0]"
   ]
  },
  {
   "cell_type": "code",
   "execution_count": 73,
   "metadata": {},
   "outputs": [
    {
     "output_type": "execute_result",
     "data": {
      "text/plain": [
       "4.89337806508859"
      ]
     },
     "metadata": {},
     "execution_count": 73
    }
   ],
   "source": [
    "X_train = dv.fit_transform(train_dicts)\n",
    "target = \"duration\"\n",
    "y_train = df[target].values\n",
    "lr = LinearRegression()\n",
    "lr.fit(X_train, y_train)\n",
    "y_pred = lr.predict(X_train)\n",
    "mean_squared_error(y_train, y_pred, squared=False)"
   ]
  },
  {
   "cell_type": "code",
   "execution_count": 74,
   "metadata": {},
   "outputs": [
    {
     "output_type": "stream",
     "name": "stderr",
     "text": [
      "/var/folders/w0/7y084pbj1kbdqv7gzhk4jb7dh0zr10/T/ipykernel_6607/1672306066.py:1: UserWarning: \n",
      "\n",
      "`distplot` is a deprecated function and will be removed in seaborn v0.14.0.\n",
      "\n",
      "Please adapt your code to use either `displot` (a figure-level function with\n",
      "similar flexibility) or `histplot` (an axes-level function for histograms).\n",
      "\n",
      "For a guide to updating your code to use the new functions, please see\n",
      "https://gist.github.com/mwaskom/de44147ed2974457ad6372750bbe5751\n",
      "\n",
      "  sns.distplot(y_pred, label='prediction')\n",
      "/var/folders/w0/7y084pbj1kbdqv7gzhk4jb7dh0zr10/T/ipykernel_6607/1672306066.py:2: UserWarning: \n",
      "\n",
      "`distplot` is a deprecated function and will be removed in seaborn v0.14.0.\n",
      "\n",
      "Please adapt your code to use either `displot` (a figure-level function with\n",
      "similar flexibility) or `histplot` (an axes-level function for histograms).\n",
      "\n",
      "For a guide to updating your code to use the new functions, please see\n",
      "https://gist.github.com/mwaskom/de44147ed2974457ad6372750bbe5751\n",
      "\n",
      "  sns.distplot(y_train, label='actual')\n"
     ]
    },
    {
     "output_type": "execute_result",
     "data": {
      "text/plain": [
       "<matplotlib.legend.Legend at 0x5be86bc40>"
      ]
     },
     "metadata": {},
     "execution_count": 74
    },
    {
     "output_type": "display_data",
     "data": {
      "text/plain": "<Figure size 640x480 with 1 Axes>",
      "image/svg+xml": "<?xml version=\"1.0\" encoding=\"utf-8\" standalone=\"no\"?>\n<!DOCTYPE svg PUBLIC \"-//W3C//DTD SVG 1.1//EN\"\n  \"http://www.w3.org/Graphics/SVG/1.1/DTD/svg11.dtd\">\n<svg xmlns:xlink=\"http://www.w3.org/1999/xlink\" width=\"420.82625pt\" height=\"297.190125pt\" viewBox=\"0 0 420.82625 297.190125\" xmlns=\"http://www.w3.org/2000/svg\" version=\"1.1\">\n <metadata>\n  <rdf:RDF xmlns:dc=\"http://purl.org/dc/elements/1.1/\" xmlns:cc=\"http://creativecommons.org/ns#\" xmlns:rdf=\"http://www.w3.org/1999/02/22-rdf-syntax-ns#\">\n   <cc:Work>\n    <dc:type rdf:resource=\"http://purl.org/dc/dcmitype/StillImage\"/>\n    <dc:date>2023-05-22T10:46:01.995754</dc:date>\n    <dc:format>image/svg+xml</dc:format>\n    <dc:creator>\n     <cc:Agent>\n      <dc:title>Matplotlib v3.7.1, https://matplotlib.org/</dc:title>\n     </cc:Agent>\n    </dc:creator>\n   </cc:Work>\n  </rdf:RDF>\n </metadata>\n <defs>\n  <style type=\"text/css\">*{stroke-linejoin: round; stroke-linecap: butt}</style>\n </defs>\n <g id=\"figure_1\">\n  <g id=\"patch_1\">\n   <path d=\"M 0 297.190125 \nL 420.82625 297.190125 \nL 420.82625 0 \nL 0 0 \nz\n\" style=\"fill: #ffffff\"/>\n  </g>\n  <g id=\"axes_1\">\n   <g id=\"patch_2\">\n    <path d=\"M 56.50625 273.312 \nL 413.62625 273.312 \nL 413.62625 7.2 \nL 56.50625 7.2 \nz\n\" style=\"fill: #ffffff\"/>\n   </g>\n   <g id=\"patch_3\">\n    <path d=\"M 73.771553 273.312 \nL 80.223341 273.312 \nL 80.223341 273.311951 \nL 73.771553 273.311951 \nz\n\" clip-path=\"url(#p5a340ea21c)\" style=\"fill: #1f77b4; opacity: 0.4\"/>\n   </g>\n   <g id=\"patch_4\">\n    <path d=\"M 80.223341 273.312 \nL 86.675129 273.312 \nL 86.675129 273.272667 \nL 80.223341 273.272667 \nz\n\" clip-path=\"url(#p5a340ea21c)\" style=\"fill: #1f77b4; opacity: 0.4\"/>\n   </g>\n   <g id=\"patch_5\">\n    <path d=\"M 86.675129 273.312 \nL 93.126917 273.312 \nL 93.126917 273.148343 \nL 86.675129 273.148343 \nz\n\" clip-path=\"url(#p5a340ea21c)\" style=\"fill: #1f77b4; opacity: 0.4\"/>\n   </g>\n   <g id=\"patch_6\">\n    <path d=\"M 93.126917 273.312 \nL 99.578705 273.312 \nL 99.578705 257.013597 \nL 93.126917 257.013597 \nz\n\" clip-path=\"url(#p5a340ea21c)\" style=\"fill: #1f77b4; opacity: 0.4\"/>\n   </g>\n   <g id=\"patch_7\">\n    <path d=\"M 99.578705 273.312 \nL 106.030492 273.312 \nL 106.030492 77.281064 \nL 99.578705 77.281064 \nz\n\" clip-path=\"url(#p5a340ea21c)\" style=\"fill: #1f77b4; opacity: 0.4\"/>\n   </g>\n   <g id=\"patch_8\">\n    <path d=\"M 106.030492 273.312 \nL 112.48228 273.312 \nL 112.48228 213.364012 \nL 106.030492 213.364012 \nz\n\" clip-path=\"url(#p5a340ea21c)\" style=\"fill: #1f77b4; opacity: 0.4\"/>\n   </g>\n   <g id=\"patch_9\">\n    <path d=\"M 112.48228 273.312 \nL 118.934068 273.312 \nL 118.934068 254.077144 \nL 112.48228 254.077144 \nz\n\" clip-path=\"url(#p5a340ea21c)\" style=\"fill: #1f77b4; opacity: 0.4\"/>\n   </g>\n   <g id=\"patch_10\">\n    <path d=\"M 118.934068 273.312 \nL 125.385856 273.312 \nL 125.385856 262.573692 \nL 118.934068 262.573692 \nz\n\" clip-path=\"url(#p5a340ea21c)\" style=\"fill: #1f77b4; opacity: 0.4\"/>\n   </g>\n   <g id=\"patch_11\">\n    <path d=\"M 125.385856 273.312 \nL 131.837644 273.312 \nL 131.837644 267.339185 \nL 125.385856 267.339185 \nz\n\" clip-path=\"url(#p5a340ea21c)\" style=\"fill: #1f77b4; opacity: 0.4\"/>\n   </g>\n   <g id=\"patch_12\">\n    <path d=\"M 131.837644 273.312 \nL 138.289432 273.312 \nL 138.289432 270.771249 \nL 131.837644 270.771249 \nz\n\" clip-path=\"url(#p5a340ea21c)\" style=\"fill: #1f77b4; opacity: 0.4\"/>\n   </g>\n   <g id=\"patch_13\">\n    <path d=\"M 138.289432 273.312 \nL 144.74122 273.312 \nL 144.74122 270.694828 \nL 138.289432 270.694828 \nz\n\" clip-path=\"url(#p5a340ea21c)\" style=\"fill: #1f77b4; opacity: 0.4\"/>\n   </g>\n   <g id=\"patch_14\">\n    <path d=\"M 144.74122 273.312 \nL 151.193008 273.312 \nL 151.193008 271.14588 \nL 144.74122 271.14588 \nz\n\" clip-path=\"url(#p5a340ea21c)\" style=\"fill: #1f77b4; opacity: 0.4\"/>\n   </g>\n   <g id=\"patch_15\">\n    <path d=\"M 151.193008 273.312 \nL 157.644795 273.312 \nL 157.644795 272.593183 \nL 151.193008 272.593183 \nz\n\" clip-path=\"url(#p5a340ea21c)\" style=\"fill: #1f77b4; opacity: 0.4\"/>\n   </g>\n   <g id=\"patch_16\">\n    <path d=\"M 157.644795 273.312 \nL 164.096583 273.312 \nL 164.096583 273.122047 \nL 157.644795 273.122047 \nz\n\" clip-path=\"url(#p5a340ea21c)\" style=\"fill: #1f77b4; opacity: 0.4\"/>\n   </g>\n   <g id=\"patch_17\">\n    <path d=\"M 164.096583 273.312 \nL 170.548371 273.312 \nL 170.548371 273.240194 \nL 164.096583 273.240194 \nz\n\" clip-path=\"url(#p5a340ea21c)\" style=\"fill: #1f77b4; opacity: 0.4\"/>\n   </g>\n   <g id=\"patch_18\">\n    <path d=\"M 170.548371 273.312 \nL 177.000159 273.312 \nL 177.000159 273.263022 \nL 170.548371 273.263022 \nz\n\" clip-path=\"url(#p5a340ea21c)\" style=\"fill: #1f77b4; opacity: 0.4\"/>\n   </g>\n   <g id=\"patch_19\">\n    <path d=\"M 177.000159 273.312 \nL 183.451947 273.312 \nL 183.451947 273.279381 \nL 177.000159 273.279381 \nz\n\" clip-path=\"url(#p5a340ea21c)\" style=\"fill: #1f77b4; opacity: 0.4\"/>\n   </g>\n   <g id=\"patch_20\">\n    <path d=\"M 183.451947 273.312 \nL 189.903735 273.312 \nL 189.903735 273.291613 \nL 183.451947 273.291613 \nz\n\" clip-path=\"url(#p5a340ea21c)\" style=\"fill: #1f77b4; opacity: 0.4\"/>\n   </g>\n   <g id=\"patch_21\">\n    <path d=\"M 189.903735 273.312 \nL 196.355523 273.312 \nL 196.355523 273.297033 \nL 189.903735 273.297033 \nz\n\" clip-path=\"url(#p5a340ea21c)\" style=\"fill: #1f77b4; opacity: 0.4\"/>\n   </g>\n   <g id=\"patch_22\">\n    <path d=\"M 196.355523 273.312 \nL 202.807311 273.312 \nL 202.807311 273.298498 \nL 196.355523 273.298498 \nz\n\" clip-path=\"url(#p5a340ea21c)\" style=\"fill: #1f77b4; opacity: 0.4\"/>\n   </g>\n   <g id=\"patch_23\">\n    <path d=\"M 202.807311 273.312 \nL 209.259098 273.312 \nL 209.259098 273.302258 \nL 202.807311 273.302258 \nz\n\" clip-path=\"url(#p5a340ea21c)\" style=\"fill: #1f77b4; opacity: 0.4\"/>\n   </g>\n   <g id=\"patch_24\">\n    <path d=\"M 209.259098 273.312 \nL 215.710886 273.312 \nL 215.710886 273.304016 \nL 209.259098 273.304016 \nz\n\" clip-path=\"url(#p5a340ea21c)\" style=\"fill: #1f77b4; opacity: 0.4\"/>\n   </g>\n   <g id=\"patch_25\">\n    <path d=\"M 215.710886 273.312 \nL 222.162674 273.312 \nL 222.162674 273.305237 \nL 215.710886 273.305237 \nz\n\" clip-path=\"url(#p5a340ea21c)\" style=\"fill: #1f77b4; opacity: 0.4\"/>\n   </g>\n   <g id=\"patch_26\">\n    <path d=\"M 222.162674 273.312 \nL 228.614462 273.312 \nL 228.614462 273.306433 \nL 222.162674 273.306433 \nz\n\" clip-path=\"url(#p5a340ea21c)\" style=\"fill: #1f77b4; opacity: 0.4\"/>\n   </g>\n   <g id=\"patch_27\">\n    <path d=\"M 228.614462 273.312 \nL 235.06625 273.312 \nL 235.06625 273.307508 \nL 228.614462 273.307508 \nz\n\" clip-path=\"url(#p5a340ea21c)\" style=\"fill: #1f77b4; opacity: 0.4\"/>\n   </g>\n   <g id=\"patch_28\">\n    <path d=\"M 235.06625 273.312 \nL 241.518038 273.312 \nL 241.518038 273.307239 \nL 235.06625 273.307239 \nz\n\" clip-path=\"url(#p5a340ea21c)\" style=\"fill: #1f77b4; opacity: 0.4\"/>\n   </g>\n   <g id=\"patch_29\">\n    <path d=\"M 241.518038 273.312 \nL 247.969826 273.312 \nL 247.969826 273.307092 \nL 241.518038 273.307092 \nz\n\" clip-path=\"url(#p5a340ea21c)\" style=\"fill: #1f77b4; opacity: 0.4\"/>\n   </g>\n   <g id=\"patch_30\">\n    <path d=\"M 247.969826 273.312 \nL 254.421614 273.312 \nL 254.421614 273.308362 \nL 247.969826 273.308362 \nz\n\" clip-path=\"url(#p5a340ea21c)\" style=\"fill: #1f77b4; opacity: 0.4\"/>\n   </g>\n   <g id=\"patch_31\">\n    <path d=\"M 254.421614 273.312 \nL 260.873402 273.312 \nL 260.873402 273.309217 \nL 254.421614 273.309217 \nz\n\" clip-path=\"url(#p5a340ea21c)\" style=\"fill: #1f77b4; opacity: 0.4\"/>\n   </g>\n   <g id=\"patch_32\">\n    <path d=\"M 260.873402 273.312 \nL 267.325189 273.312 \nL 267.325189 273.30885 \nL 260.873402 273.30885 \nz\n\" clip-path=\"url(#p5a340ea21c)\" style=\"fill: #1f77b4; opacity: 0.4\"/>\n   </g>\n   <g id=\"patch_33\">\n    <path d=\"M 267.325189 273.312 \nL 273.776977 273.312 \nL 273.776977 273.309412 \nL 267.325189 273.309412 \nz\n\" clip-path=\"url(#p5a340ea21c)\" style=\"fill: #1f77b4; opacity: 0.4\"/>\n   </g>\n   <g id=\"patch_34\">\n    <path d=\"M 273.776977 273.312 \nL 280.228765 273.312 \nL 280.228765 273.309949 \nL 273.776977 273.309949 \nz\n\" clip-path=\"url(#p5a340ea21c)\" style=\"fill: #1f77b4; opacity: 0.4\"/>\n   </g>\n   <g id=\"patch_35\">\n    <path d=\"M 280.228765 273.312 \nL 286.680553 273.312 \nL 286.680553 273.309876 \nL 280.228765 273.309876 \nz\n\" clip-path=\"url(#p5a340ea21c)\" style=\"fill: #1f77b4; opacity: 0.4\"/>\n   </g>\n   <g id=\"patch_36\">\n    <path d=\"M 286.680553 273.312 \nL 293.132341 273.312 \nL 293.132341 273.309827 \nL 286.680553 273.309827 \nz\n\" clip-path=\"url(#p5a340ea21c)\" style=\"fill: #1f77b4; opacity: 0.4\"/>\n   </g>\n   <g id=\"patch_37\">\n    <path d=\"M 293.132341 273.312 \nL 299.584129 273.312 \nL 299.584129 273.310218 \nL 293.132341 273.310218 \nz\n\" clip-path=\"url(#p5a340ea21c)\" style=\"fill: #1f77b4; opacity: 0.4\"/>\n   </g>\n   <g id=\"patch_38\">\n    <path d=\"M 299.584129 273.312 \nL 306.035917 273.312 \nL 306.035917 273.310242 \nL 299.584129 273.310242 \nz\n\" clip-path=\"url(#p5a340ea21c)\" style=\"fill: #1f77b4; opacity: 0.4\"/>\n   </g>\n   <g id=\"patch_39\">\n    <path d=\"M 306.035917 273.312 \nL 312.487705 273.312 \nL 312.487705 273.310633 \nL 306.035917 273.310633 \nz\n\" clip-path=\"url(#p5a340ea21c)\" style=\"fill: #1f77b4; opacity: 0.4\"/>\n   </g>\n   <g id=\"patch_40\">\n    <path d=\"M 312.487705 273.312 \nL 318.939492 273.312 \nL 318.939492 273.310584 \nL 312.487705 273.310584 \nz\n\" clip-path=\"url(#p5a340ea21c)\" style=\"fill: #1f77b4; opacity: 0.4\"/>\n   </g>\n   <g id=\"patch_41\">\n    <path d=\"M 318.939492 273.312 \nL 325.39128 273.312 \nL 325.39128 273.310413 \nL 318.939492 273.310413 \nz\n\" clip-path=\"url(#p5a340ea21c)\" style=\"fill: #1f77b4; opacity: 0.4\"/>\n   </g>\n   <g id=\"patch_42\">\n    <path d=\"M 325.39128 273.312 \nL 331.843068 273.312 \nL 331.843068 273.310804 \nL 325.39128 273.310804 \nz\n\" clip-path=\"url(#p5a340ea21c)\" style=\"fill: #1f77b4; opacity: 0.4\"/>\n   </g>\n   <g id=\"patch_43\">\n    <path d=\"M 331.843068 273.312 \nL 338.294856 273.312 \nL 338.294856 273.310608 \nL 331.843068 273.310608 \nz\n\" clip-path=\"url(#p5a340ea21c)\" style=\"fill: #1f77b4; opacity: 0.4\"/>\n   </g>\n   <g id=\"patch_44\">\n    <path d=\"M 338.294856 273.312 \nL 344.746644 273.312 \nL 344.746644 273.310706 \nL 338.294856 273.310706 \nz\n\" clip-path=\"url(#p5a340ea21c)\" style=\"fill: #1f77b4; opacity: 0.4\"/>\n   </g>\n   <g id=\"patch_45\">\n    <path d=\"M 344.746644 273.312 \nL 351.198432 273.312 \nL 351.198432 273.311023 \nL 344.746644 273.311023 \nz\n\" clip-path=\"url(#p5a340ea21c)\" style=\"fill: #1f77b4; opacity: 0.4\"/>\n   </g>\n   <g id=\"patch_46\">\n    <path d=\"M 351.198432 273.312 \nL 357.65022 273.312 \nL 357.65022 273.310535 \nL 351.198432 273.310535 \nz\n\" clip-path=\"url(#p5a340ea21c)\" style=\"fill: #1f77b4; opacity: 0.4\"/>\n   </g>\n   <g id=\"patch_47\">\n    <path d=\"M 357.65022 273.312 \nL 364.102008 273.312 \nL 364.102008 273.310975 \nL 357.65022 273.310975 \nz\n\" clip-path=\"url(#p5a340ea21c)\" style=\"fill: #1f77b4; opacity: 0.4\"/>\n   </g>\n   <g id=\"patch_48\">\n    <path d=\"M 364.102008 273.312 \nL 370.553795 273.312 \nL 370.553795 273.311097 \nL 364.102008 273.311097 \nz\n\" clip-path=\"url(#p5a340ea21c)\" style=\"fill: #1f77b4; opacity: 0.4\"/>\n   </g>\n   <g id=\"patch_49\">\n    <path d=\"M 370.553795 273.312 \nL 377.005583 273.312 \nL 377.005583 273.310682 \nL 370.553795 273.310682 \nz\n\" clip-path=\"url(#p5a340ea21c)\" style=\"fill: #1f77b4; opacity: 0.4\"/>\n   </g>\n   <g id=\"patch_50\">\n    <path d=\"M 377.005583 273.312 \nL 383.457371 273.312 \nL 383.457371 273.310926 \nL 377.005583 273.310926 \nz\n\" clip-path=\"url(#p5a340ea21c)\" style=\"fill: #1f77b4; opacity: 0.4\"/>\n   </g>\n   <g id=\"patch_51\">\n    <path d=\"M 383.457371 273.312 \nL 389.909159 273.312 \nL 389.909159 273.310682 \nL 383.457371 273.310682 \nz\n\" clip-path=\"url(#p5a340ea21c)\" style=\"fill: #1f77b4; opacity: 0.4\"/>\n   </g>\n   <g id=\"patch_52\">\n    <path d=\"M 389.909159 273.312 \nL 396.360947 273.312 \nL 396.360947 273.311414 \nL 389.909159 273.311414 \nz\n\" clip-path=\"url(#p5a340ea21c)\" style=\"fill: #1f77b4; opacity: 0.4\"/>\n   </g>\n   <g id=\"patch_53\">\n    <path d=\"M 90.471473 273.312 \nL 92.314758 273.312 \nL 92.314758 244.597466 \nL 90.471473 244.597466 \nz\n\" clip-path=\"url(#p5a340ea21c)\" style=\"fill: #ff7f0e; opacity: 0.4\"/>\n   </g>\n   <g id=\"patch_54\">\n    <path d=\"M 92.314758 273.312 \nL 94.158043 273.312 \nL 94.158043 218.599389 \nL 92.314758 218.599389 \nz\n\" clip-path=\"url(#p5a340ea21c)\" style=\"fill: #ff7f0e; opacity: 0.4\"/>\n   </g>\n   <g id=\"patch_55\">\n    <path d=\"M 94.158043 273.312 \nL 96.001328 273.312 \nL 96.001328 195.066438 \nL 94.158043 195.066438 \nz\n\" clip-path=\"url(#p5a340ea21c)\" style=\"fill: #ff7f0e; opacity: 0.4\"/>\n   </g>\n   <g id=\"patch_56\">\n    <path d=\"M 96.001328 273.312 \nL 97.844612 273.312 \nL 97.844612 183.520103 \nL 96.001328 183.520103 \nz\n\" clip-path=\"url(#p5a340ea21c)\" style=\"fill: #ff7f0e; opacity: 0.4\"/>\n   </g>\n   <g id=\"patch_57\">\n    <path d=\"M 97.844612 273.312 \nL 99.687897 273.312 \nL 99.687897 181.808975 \nL 97.844612 181.808975 \nz\n\" clip-path=\"url(#p5a340ea21c)\" style=\"fill: #ff7f0e; opacity: 0.4\"/>\n   </g>\n   <g id=\"patch_58\">\n    <path d=\"M 99.687897 273.312 \nL 101.531182 273.312 \nL 101.531182 148.361085 \nL 99.687897 148.361085 \nz\n\" clip-path=\"url(#p5a340ea21c)\" style=\"fill: #ff7f0e; opacity: 0.4\"/>\n   </g>\n   <g id=\"patch_59\">\n    <path d=\"M 101.531182 273.312 \nL 103.374467 273.312 \nL 103.374467 191.425067 \nL 101.531182 191.425067 \nz\n\" clip-path=\"url(#p5a340ea21c)\" style=\"fill: #ff7f0e; opacity: 0.4\"/>\n   </g>\n   <g id=\"patch_60\">\n    <path d=\"M 103.374467 273.312 \nL 105.217751 273.312 \nL 105.217751 199.192358 \nL 103.374467 199.192358 \nz\n\" clip-path=\"url(#p5a340ea21c)\" style=\"fill: #ff7f0e; opacity: 0.4\"/>\n   </g>\n   <g id=\"patch_61\">\n    <path d=\"M 105.217751 273.312 \nL 107.061036 273.312 \nL 107.061036 207.503077 \nL 105.217751 207.503077 \nz\n\" clip-path=\"url(#p5a340ea21c)\" style=\"fill: #ff7f0e; opacity: 0.4\"/>\n   </g>\n   <g id=\"patch_62\">\n    <path d=\"M 107.061036 273.312 \nL 108.904321 273.312 \nL 108.904321 215.743207 \nL 107.061036 215.743207 \nz\n\" clip-path=\"url(#p5a340ea21c)\" style=\"fill: #ff7f0e; opacity: 0.4\"/>\n   </g>\n   <g id=\"patch_63\">\n    <path d=\"M 108.904321 273.312 \nL 110.747606 273.312 \nL 110.747606 222.703602 \nL 108.904321 222.703602 \nz\n\" clip-path=\"url(#p5a340ea21c)\" style=\"fill: #ff7f0e; opacity: 0.4\"/>\n   </g>\n   <g id=\"patch_64\">\n    <path d=\"M 110.747606 273.312 \nL 112.590891 273.312 \nL 112.590891 212.736362 \nL 110.747606 212.736362 \nz\n\" clip-path=\"url(#p5a340ea21c)\" style=\"fill: #ff7f0e; opacity: 0.4\"/>\n   </g>\n   <g id=\"patch_65\">\n    <path d=\"M 112.590891 273.312 \nL 114.434175 273.312 \nL 114.434175 237.307117 \nL 112.590891 237.307117 \nz\n\" clip-path=\"url(#p5a340ea21c)\" style=\"fill: #ff7f0e; opacity: 0.4\"/>\n   </g>\n   <g id=\"patch_66\">\n    <path d=\"M 114.434175 273.312 \nL 116.27746 273.312 \nL 116.27746 242.334619 \nL 114.434175 242.334619 \nz\n\" clip-path=\"url(#p5a340ea21c)\" style=\"fill: #ff7f0e; opacity: 0.4\"/>\n   </g>\n   <g id=\"patch_67\">\n    <path d=\"M 116.27746 273.312 \nL 118.120745 273.312 \nL 118.120745 246.947223 \nL 116.27746 246.947223 \nz\n\" clip-path=\"url(#p5a340ea21c)\" style=\"fill: #ff7f0e; opacity: 0.4\"/>\n   </g>\n   <g id=\"patch_68\">\n    <path d=\"M 118.120745 273.312 \nL 119.96403 273.312 \nL 119.96403 250.596542 \nL 118.120745 250.596542 \nz\n\" clip-path=\"url(#p5a340ea21c)\" style=\"fill: #ff7f0e; opacity: 0.4\"/>\n   </g>\n   <g id=\"patch_69\">\n    <path d=\"M 119.96403 273.312 \nL 121.807314 273.312 \nL 121.807314 246.677688 \nL 119.96403 246.677688 \nz\n\" clip-path=\"url(#p5a340ea21c)\" style=\"fill: #ff7f0e; opacity: 0.4\"/>\n   </g>\n   <g id=\"patch_70\">\n    <path d=\"M 121.807314 273.312 \nL 123.650599 273.312 \nL 123.650599 257.680253 \nL 121.807314 257.680253 \nz\n\" clip-path=\"url(#p5a340ea21c)\" style=\"fill: #ff7f0e; opacity: 0.4\"/>\n   </g>\n   <g id=\"patch_71\">\n    <path d=\"M 123.650599 273.312 \nL 125.493884 273.312 \nL 125.493884 260.049665 \nL 123.650599 260.049665 \nz\n\" clip-path=\"url(#p5a340ea21c)\" style=\"fill: #ff7f0e; opacity: 0.4\"/>\n   </g>\n   <g id=\"patch_72\">\n    <path d=\"M 125.493884 273.312 \nL 127.337169 273.312 \nL 127.337169 262.172616 \nL 125.493884 262.172616 \nz\n\" clip-path=\"url(#p5a340ea21c)\" style=\"fill: #ff7f0e; opacity: 0.4\"/>\n   </g>\n   <g id=\"patch_73\">\n    <path d=\"M 127.337169 273.312 \nL 129.180453 273.312 \nL 129.180453 263.710265 \nL 127.337169 263.710265 \nz\n\" clip-path=\"url(#p5a340ea21c)\" style=\"fill: #ff7f0e; opacity: 0.4\"/>\n   </g>\n   <g id=\"patch_74\">\n    <path d=\"M 129.180453 273.312 \nL 131.023738 273.312 \nL 131.023738 265.148269 \nL 129.180453 265.148269 \nz\n\" clip-path=\"url(#p5a340ea21c)\" style=\"fill: #ff7f0e; opacity: 0.4\"/>\n   </g>\n   <g id=\"patch_75\">\n    <path d=\"M 131.023738 273.312 \nL 132.867023 273.312 \nL 132.867023 263.747183 \nL 131.023738 263.747183 \nz\n\" clip-path=\"url(#p5a340ea21c)\" style=\"fill: #ff7f0e; opacity: 0.4\"/>\n   </g>\n   <g id=\"patch_76\">\n    <path d=\"M 132.867023 273.312 \nL 134.710308 273.312 \nL 134.710308 267.720046 \nL 132.867023 267.720046 \nz\n\" clip-path=\"url(#p5a340ea21c)\" style=\"fill: #ff7f0e; opacity: 0.4\"/>\n   </g>\n   <g id=\"patch_77\">\n    <path d=\"M 134.710308 273.312 \nL 136.553592 273.312 \nL 136.553592 268.588216 \nL 134.710308 268.588216 \nz\n\" clip-path=\"url(#p5a340ea21c)\" style=\"fill: #ff7f0e; opacity: 0.4\"/>\n   </g>\n   <g id=\"patch_78\">\n    <path d=\"M 136.553592 273.312 \nL 138.396877 273.312 \nL 138.396877 269.208044 \nL 136.553592 269.208044 \nz\n\" clip-path=\"url(#p5a340ea21c)\" style=\"fill: #ff7f0e; opacity: 0.4\"/>\n   </g>\n   <g id=\"patch_79\">\n    <path d=\"M 138.396877 273.312 \nL 140.240162 273.312 \nL 140.240162 269.850945 \nL 138.396877 269.850945 \nz\n\" clip-path=\"url(#p5a340ea21c)\" style=\"fill: #ff7f0e; opacity: 0.4\"/>\n   </g>\n   <g id=\"patch_80\">\n    <path d=\"M 140.240162 273.312 \nL 142.083447 273.312 \nL 142.083447 269.117116 \nL 140.240162 269.117116 \nz\n\" clip-path=\"url(#p5a340ea21c)\" style=\"fill: #ff7f0e; opacity: 0.4\"/>\n   </g>\n   <g id=\"patch_81\">\n    <path d=\"M 142.083447 273.312 \nL 143.926731 273.312 \nL 143.926731 270.840978 \nL 142.083447 270.840978 \nz\n\" clip-path=\"url(#p5a340ea21c)\" style=\"fill: #ff7f0e; opacity: 0.4\"/>\n   </g>\n   <g id=\"patch_82\">\n    <path d=\"M 143.926731 273.312 \nL 145.770016 273.312 \nL 145.770016 271.216395 \nL 143.926731 271.216395 \nz\n\" clip-path=\"url(#p5a340ea21c)\" style=\"fill: #ff7f0e; opacity: 0.4\"/>\n   </g>\n   <g id=\"patch_83\">\n    <path d=\"M 145.770016 273.312 \nL 147.613301 273.312 \nL 147.613301 271.474308 \nL 145.770016 271.474308 \nz\n\" clip-path=\"url(#p5a340ea21c)\" style=\"fill: #ff7f0e; opacity: 0.4\"/>\n   </g>\n   <g id=\"patch_84\">\n    <path d=\"M 147.613301 273.312 \nL 149.456586 273.312 \nL 149.456586 271.717437 \nL 147.613301 271.717437 \nz\n\" clip-path=\"url(#p5a340ea21c)\" style=\"fill: #ff7f0e; opacity: 0.4\"/>\n   </g>\n   <g id=\"patch_85\">\n    <path d=\"M 149.456586 273.312 \nL 151.29987 273.312 \nL 151.29987 271.913307 \nL 149.456586 271.913307 \nz\n\" clip-path=\"url(#p5a340ea21c)\" style=\"fill: #ff7f0e; opacity: 0.4\"/>\n   </g>\n   <g id=\"patch_86\">\n    <path d=\"M 151.29987 273.312 \nL 153.143155 273.312 \nL 153.143155 271.616852 \nL 151.29987 271.616852 \nz\n\" clip-path=\"url(#p5a340ea21c)\" style=\"fill: #ff7f0e; opacity: 0.4\"/>\n   </g>\n   <g id=\"patch_87\">\n    <path d=\"M 153.143155 273.312 \nL 154.98644 273.312 \nL 154.98644 272.289921 \nL 153.143155 272.289921 \nz\n\" clip-path=\"url(#p5a340ea21c)\" style=\"fill: #ff7f0e; opacity: 0.4\"/>\n   </g>\n   <g id=\"patch_88\">\n    <path d=\"M 154.98644 273.312 \nL 156.829725 273.312 \nL 156.829725 272.418279 \nL 154.98644 272.418279 \nz\n\" clip-path=\"url(#p5a340ea21c)\" style=\"fill: #ff7f0e; opacity: 0.4\"/>\n   </g>\n   <g id=\"patch_89\">\n    <path d=\"M 156.829725 273.312 \nL 158.673009 273.312 \nL 158.673009 272.523221 \nL 156.829725 272.523221 \nz\n\" clip-path=\"url(#p5a340ea21c)\" style=\"fill: #ff7f0e; opacity: 0.4\"/>\n   </g>\n   <g id=\"patch_90\">\n    <path d=\"M 158.673009 273.312 \nL 160.516294 273.312 \nL 160.516294 272.613636 \nL 158.673009 272.613636 \nz\n\" clip-path=\"url(#p5a340ea21c)\" style=\"fill: #ff7f0e; opacity: 0.4\"/>\n   </g>\n   <g id=\"patch_91\">\n    <path d=\"M 160.516294 273.312 \nL 162.359579 273.312 \nL 162.359579 272.45682 \nL 160.516294 272.45682 \nz\n\" clip-path=\"url(#p5a340ea21c)\" style=\"fill: #ff7f0e; opacity: 0.4\"/>\n   </g>\n   <g id=\"patch_92\">\n    <path d=\"M 162.359579 273.312 \nL 164.202864 273.312 \nL 164.202864 272.793184 \nL 162.359579 272.793184 \nz\n\" clip-path=\"url(#p5a340ea21c)\" style=\"fill: #ff7f0e; opacity: 0.4\"/>\n   </g>\n   <g id=\"patch_93\">\n    <path d=\"M 164.202864 273.312 \nL 166.046149 273.312 \nL 166.046149 272.863857 \nL 164.202864 272.863857 \nz\n\" clip-path=\"url(#p5a340ea21c)\" style=\"fill: #ff7f0e; opacity: 0.4\"/>\n   </g>\n   <g id=\"patch_94\">\n    <path d=\"M 166.046149 273.312 \nL 167.889433 273.312 \nL 167.889433 272.905476 \nL 166.046149 272.905476 \nz\n\" clip-path=\"url(#p5a340ea21c)\" style=\"fill: #ff7f0e; opacity: 0.4\"/>\n   </g>\n   <g id=\"patch_95\">\n    <path d=\"M 167.889433 273.312 \nL 169.732718 273.312 \nL 169.732718 272.960083 \nL 167.889433 272.960083 \nz\n\" clip-path=\"url(#p5a340ea21c)\" style=\"fill: #ff7f0e; opacity: 0.4\"/>\n   </g>\n   <g id=\"patch_96\">\n    <path d=\"M 169.732718 273.312 \nL 171.576003 273.312 \nL 171.576003 273.00042 \nL 169.732718 273.00042 \nz\n\" clip-path=\"url(#p5a340ea21c)\" style=\"fill: #ff7f0e; opacity: 0.4\"/>\n   </g>\n   <g id=\"patch_97\">\n    <path d=\"M 171.576003 273.312 \nL 173.419288 273.312 \nL 173.419288 272.92778 \nL 171.576003 272.92778 \nz\n\" clip-path=\"url(#p5a340ea21c)\" style=\"fill: #ff7f0e; opacity: 0.4\"/>\n   </g>\n   <g id=\"patch_98\">\n    <path d=\"M 173.419288 273.312 \nL 175.262572 273.312 \nL 175.262572 273.08434 \nL 173.419288 273.08434 \nz\n\" clip-path=\"url(#p5a340ea21c)\" style=\"fill: #ff7f0e; opacity: 0.4\"/>\n   </g>\n   <g id=\"patch_99\">\n    <path d=\"M 175.262572 273.312 \nL 177.105857 273.312 \nL 177.105857 273.10596 \nL 175.262572 273.10596 \nz\n\" clip-path=\"url(#p5a340ea21c)\" style=\"fill: #ff7f0e; opacity: 0.4\"/>\n   </g>\n   <g id=\"patch_100\">\n    <path d=\"M 177.105857 273.312 \nL 178.949142 273.312 \nL 178.949142 273.131427 \nL 177.105857 273.131427 \nz\n\" clip-path=\"url(#p5a340ea21c)\" style=\"fill: #ff7f0e; opacity: 0.4\"/>\n   </g>\n   <g id=\"patch_101\">\n    <path d=\"M 178.949142 273.312 \nL 180.792427 273.312 \nL 180.792427 273.155697 \nL 178.949142 273.155697 \nz\n\" clip-path=\"url(#p5a340ea21c)\" style=\"fill: #ff7f0e; opacity: 0.4\"/>\n   </g>\n   <g id=\"patch_102\">\n    <path d=\"M 180.792427 273.312 \nL 182.635711 273.312 \nL 182.635711 273.121514 \nL 180.792427 273.121514 \nz\n\" clip-path=\"url(#p5a340ea21c)\" style=\"fill: #ff7f0e; opacity: 0.4\"/>\n   </g>\n   <g id=\"matplotlib.axis_1\">\n    <g id=\"xtick_1\">\n     <g id=\"line2d_1\">\n      <defs>\n       <path id=\"m6d73db0701\" d=\"M 0 0 \nL 0 3.5 \n\" style=\"stroke: #000000; stroke-width: 0.8\"/>\n      </defs>\n      <g>\n       <use xlink:href=\"#m6d73db0701\" x=\"88.909368\" y=\"273.312\" style=\"stroke: #000000; stroke-width: 0.8\"/>\n      </g>\n     </g>\n     <g id=\"text_1\">\n      <!-- 0 -->\n      <g transform=\"translate(85.728118 287.910437) scale(0.1 -0.1)\">\n       <defs>\n        <path id=\"DejaVuSans-30\" d=\"M 2034 4250 \nQ 1547 4250 1301 3770 \nQ 1056 3291 1056 2328 \nQ 1056 1369 1301 889 \nQ 1547 409 2034 409 \nQ 2525 409 2770 889 \nQ 3016 1369 3016 2328 \nQ 3016 3291 2770 3770 \nQ 2525 4250 2034 4250 \nz\nM 2034 4750 \nQ 2819 4750 3233 4129 \nQ 3647 3509 3647 2328 \nQ 3647 1150 3233 529 \nQ 2819 -91 2034 -91 \nQ 1250 -91 836 529 \nQ 422 1150 422 2328 \nQ 422 3509 836 4129 \nQ 1250 4750 2034 4750 \nz\n\" transform=\"scale(0.015625)\"/>\n       </defs>\n       <use xlink:href=\"#DejaVuSans-30\"/>\n      </g>\n     </g>\n    </g>\n    <g id=\"xtick_2\">\n     <g id=\"line2d_2\">\n      <g>\n       <use xlink:href=\"#m6d73db0701\" x=\"167.014654\" y=\"273.312\" style=\"stroke: #000000; stroke-width: 0.8\"/>\n      </g>\n     </g>\n     <g id=\"text_2\">\n      <!-- 50 -->\n      <g transform=\"translate(160.652154 287.910437) scale(0.1 -0.1)\">\n       <defs>\n        <path id=\"DejaVuSans-35\" d=\"M 691 4666 \nL 3169 4666 \nL 3169 4134 \nL 1269 4134 \nL 1269 2991 \nQ 1406 3038 1543 3061 \nQ 1681 3084 1819 3084 \nQ 2600 3084 3056 2656 \nQ 3513 2228 3513 1497 \nQ 3513 744 3044 326 \nQ 2575 -91 1722 -91 \nQ 1428 -91 1123 -41 \nQ 819 9 494 109 \nL 494 744 \nQ 775 591 1075 516 \nQ 1375 441 1709 441 \nQ 2250 441 2565 725 \nQ 2881 1009 2881 1497 \nQ 2881 1984 2565 2268 \nQ 2250 2553 1709 2553 \nQ 1456 2553 1204 2497 \nQ 953 2441 691 2322 \nL 691 4666 \nz\n\" transform=\"scale(0.015625)\"/>\n       </defs>\n       <use xlink:href=\"#DejaVuSans-35\"/>\n       <use xlink:href=\"#DejaVuSans-30\" x=\"63.623047\"/>\n      </g>\n     </g>\n    </g>\n    <g id=\"xtick_3\">\n     <g id=\"line2d_3\">\n      <g>\n       <use xlink:href=\"#m6d73db0701\" x=\"245.11994\" y=\"273.312\" style=\"stroke: #000000; stroke-width: 0.8\"/>\n      </g>\n     </g>\n     <g id=\"text_3\">\n      <!-- 100 -->\n      <g transform=\"translate(235.57619 287.910437) scale(0.1 -0.1)\">\n       <defs>\n        <path id=\"DejaVuSans-31\" d=\"M 794 531 \nL 1825 531 \nL 1825 4091 \nL 703 3866 \nL 703 4441 \nL 1819 4666 \nL 2450 4666 \nL 2450 531 \nL 3481 531 \nL 3481 0 \nL 794 0 \nL 794 531 \nz\n\" transform=\"scale(0.015625)\"/>\n       </defs>\n       <use xlink:href=\"#DejaVuSans-31\"/>\n       <use xlink:href=\"#DejaVuSans-30\" x=\"63.623047\"/>\n       <use xlink:href=\"#DejaVuSans-30\" x=\"127.246094\"/>\n      </g>\n     </g>\n    </g>\n    <g id=\"xtick_4\">\n     <g id=\"line2d_4\">\n      <g>\n       <use xlink:href=\"#m6d73db0701\" x=\"323.225227\" y=\"273.312\" style=\"stroke: #000000; stroke-width: 0.8\"/>\n      </g>\n     </g>\n     <g id=\"text_4\">\n      <!-- 150 -->\n      <g transform=\"translate(313.681477 287.910437) scale(0.1 -0.1)\">\n       <use xlink:href=\"#DejaVuSans-31\"/>\n       <use xlink:href=\"#DejaVuSans-35\" x=\"63.623047\"/>\n       <use xlink:href=\"#DejaVuSans-30\" x=\"127.246094\"/>\n      </g>\n     </g>\n    </g>\n    <g id=\"xtick_5\">\n     <g id=\"line2d_5\">\n      <g>\n       <use xlink:href=\"#m6d73db0701\" x=\"401.330513\" y=\"273.312\" style=\"stroke: #000000; stroke-width: 0.8\"/>\n      </g>\n     </g>\n     <g id=\"text_5\">\n      <!-- 200 -->\n      <g transform=\"translate(391.786763 287.910437) scale(0.1 -0.1)\">\n       <defs>\n        <path id=\"DejaVuSans-32\" d=\"M 1228 531 \nL 3431 531 \nL 3431 0 \nL 469 0 \nL 469 531 \nQ 828 903 1448 1529 \nQ 2069 2156 2228 2338 \nQ 2531 2678 2651 2914 \nQ 2772 3150 2772 3378 \nQ 2772 3750 2511 3984 \nQ 2250 4219 1831 4219 \nQ 1534 4219 1204 4116 \nQ 875 4013 500 3803 \nL 500 4441 \nQ 881 4594 1212 4672 \nQ 1544 4750 1819 4750 \nQ 2544 4750 2975 4387 \nQ 3406 4025 3406 3419 \nQ 3406 3131 3298 2873 \nQ 3191 2616 2906 2266 \nQ 2828 2175 2409 1742 \nQ 1991 1309 1228 531 \nz\n\" transform=\"scale(0.015625)\"/>\n       </defs>\n       <use xlink:href=\"#DejaVuSans-32\"/>\n       <use xlink:href=\"#DejaVuSans-30\" x=\"63.623047\"/>\n       <use xlink:href=\"#DejaVuSans-30\" x=\"127.246094\"/>\n      </g>\n     </g>\n    </g>\n   </g>\n   <g id=\"matplotlib.axis_2\">\n    <g id=\"ytick_1\">\n     <g id=\"line2d_6\">\n      <defs>\n       <path id=\"m96a3ab246e\" d=\"M 0 0 \nL -3.5 0 \n\" style=\"stroke: #000000; stroke-width: 0.8\"/>\n      </defs>\n      <g>\n       <use xlink:href=\"#m96a3ab246e\" x=\"56.50625\" y=\"273.312\" style=\"stroke: #000000; stroke-width: 0.8\"/>\n      </g>\n     </g>\n     <g id=\"text_6\">\n      <!-- 0.000 -->\n      <g transform=\"translate(20.878125 277.111219) scale(0.1 -0.1)\">\n       <defs>\n        <path id=\"DejaVuSans-2e\" d=\"M 684 794 \nL 1344 794 \nL 1344 0 \nL 684 0 \nL 684 794 \nz\n\" transform=\"scale(0.015625)\"/>\n       </defs>\n       <use xlink:href=\"#DejaVuSans-30\"/>\n       <use xlink:href=\"#DejaVuSans-2e\" x=\"63.623047\"/>\n       <use xlink:href=\"#DejaVuSans-30\" x=\"95.410156\"/>\n       <use xlink:href=\"#DejaVuSans-30\" x=\"159.033203\"/>\n       <use xlink:href=\"#DejaVuSans-30\" x=\"222.65625\"/>\n      </g>\n     </g>\n    </g>\n    <g id=\"ytick_2\">\n     <g id=\"line2d_7\">\n      <g>\n       <use xlink:href=\"#m96a3ab246e\" x=\"56.50625\" y=\"240.585993\" style=\"stroke: #000000; stroke-width: 0.8\"/>\n      </g>\n     </g>\n     <g id=\"text_7\">\n      <!-- 0.025 -->\n      <g transform=\"translate(20.878125 244.385212) scale(0.1 -0.1)\">\n       <use xlink:href=\"#DejaVuSans-30\"/>\n       <use xlink:href=\"#DejaVuSans-2e\" x=\"63.623047\"/>\n       <use xlink:href=\"#DejaVuSans-30\" x=\"95.410156\"/>\n       <use xlink:href=\"#DejaVuSans-32\" x=\"159.033203\"/>\n       <use xlink:href=\"#DejaVuSans-35\" x=\"222.65625\"/>\n      </g>\n     </g>\n    </g>\n    <g id=\"ytick_3\">\n     <g id=\"line2d_8\">\n      <g>\n       <use xlink:href=\"#m96a3ab246e\" x=\"56.50625\" y=\"207.859986\" style=\"stroke: #000000; stroke-width: 0.8\"/>\n      </g>\n     </g>\n     <g id=\"text_8\">\n      <!-- 0.050 -->\n      <g transform=\"translate(20.878125 211.659205) scale(0.1 -0.1)\">\n       <use xlink:href=\"#DejaVuSans-30\"/>\n       <use xlink:href=\"#DejaVuSans-2e\" x=\"63.623047\"/>\n       <use xlink:href=\"#DejaVuSans-30\" x=\"95.410156\"/>\n       <use xlink:href=\"#DejaVuSans-35\" x=\"159.033203\"/>\n       <use xlink:href=\"#DejaVuSans-30\" x=\"222.65625\"/>\n      </g>\n     </g>\n    </g>\n    <g id=\"ytick_4\">\n     <g id=\"line2d_9\">\n      <g>\n       <use xlink:href=\"#m96a3ab246e\" x=\"56.50625\" y=\"175.133979\" style=\"stroke: #000000; stroke-width: 0.8\"/>\n      </g>\n     </g>\n     <g id=\"text_9\">\n      <!-- 0.075 -->\n      <g transform=\"translate(20.878125 178.933197) scale(0.1 -0.1)\">\n       <defs>\n        <path id=\"DejaVuSans-37\" d=\"M 525 4666 \nL 3525 4666 \nL 3525 4397 \nL 1831 0 \nL 1172 0 \nL 2766 4134 \nL 525 4134 \nL 525 4666 \nz\n\" transform=\"scale(0.015625)\"/>\n       </defs>\n       <use xlink:href=\"#DejaVuSans-30\"/>\n       <use xlink:href=\"#DejaVuSans-2e\" x=\"63.623047\"/>\n       <use xlink:href=\"#DejaVuSans-30\" x=\"95.410156\"/>\n       <use xlink:href=\"#DejaVuSans-37\" x=\"159.033203\"/>\n       <use xlink:href=\"#DejaVuSans-35\" x=\"222.65625\"/>\n      </g>\n     </g>\n    </g>\n    <g id=\"ytick_5\">\n     <g id=\"line2d_10\">\n      <g>\n       <use xlink:href=\"#m96a3ab246e\" x=\"56.50625\" y=\"142.407972\" style=\"stroke: #000000; stroke-width: 0.8\"/>\n      </g>\n     </g>\n     <g id=\"text_10\">\n      <!-- 0.100 -->\n      <g transform=\"translate(20.878125 146.20719) scale(0.1 -0.1)\">\n       <use xlink:href=\"#DejaVuSans-30\"/>\n       <use xlink:href=\"#DejaVuSans-2e\" x=\"63.623047\"/>\n       <use xlink:href=\"#DejaVuSans-31\" x=\"95.410156\"/>\n       <use xlink:href=\"#DejaVuSans-30\" x=\"159.033203\"/>\n       <use xlink:href=\"#DejaVuSans-30\" x=\"222.65625\"/>\n      </g>\n     </g>\n    </g>\n    <g id=\"ytick_6\">\n     <g id=\"line2d_11\">\n      <g>\n       <use xlink:href=\"#m96a3ab246e\" x=\"56.50625\" y=\"109.681964\" style=\"stroke: #000000; stroke-width: 0.8\"/>\n      </g>\n     </g>\n     <g id=\"text_11\">\n      <!-- 0.125 -->\n      <g transform=\"translate(20.878125 113.481183) scale(0.1 -0.1)\">\n       <use xlink:href=\"#DejaVuSans-30\"/>\n       <use xlink:href=\"#DejaVuSans-2e\" x=\"63.623047\"/>\n       <use xlink:href=\"#DejaVuSans-31\" x=\"95.410156\"/>\n       <use xlink:href=\"#DejaVuSans-32\" x=\"159.033203\"/>\n       <use xlink:href=\"#DejaVuSans-35\" x=\"222.65625\"/>\n      </g>\n     </g>\n    </g>\n    <g id=\"ytick_7\">\n     <g id=\"line2d_12\">\n      <g>\n       <use xlink:href=\"#m96a3ab246e\" x=\"56.50625\" y=\"76.955957\" style=\"stroke: #000000; stroke-width: 0.8\"/>\n      </g>\n     </g>\n     <g id=\"text_12\">\n      <!-- 0.150 -->\n      <g transform=\"translate(20.878125 80.755176) scale(0.1 -0.1)\">\n       <use xlink:href=\"#DejaVuSans-30\"/>\n       <use xlink:href=\"#DejaVuSans-2e\" x=\"63.623047\"/>\n       <use xlink:href=\"#DejaVuSans-31\" x=\"95.410156\"/>\n       <use xlink:href=\"#DejaVuSans-35\" x=\"159.033203\"/>\n       <use xlink:href=\"#DejaVuSans-30\" x=\"222.65625\"/>\n      </g>\n     </g>\n    </g>\n    <g id=\"ytick_8\">\n     <g id=\"line2d_13\">\n      <g>\n       <use xlink:href=\"#m96a3ab246e\" x=\"56.50625\" y=\"44.22995\" style=\"stroke: #000000; stroke-width: 0.8\"/>\n      </g>\n     </g>\n     <g id=\"text_13\">\n      <!-- 0.175 -->\n      <g transform=\"translate(20.878125 48.029169) scale(0.1 -0.1)\">\n       <use xlink:href=\"#DejaVuSans-30\"/>\n       <use xlink:href=\"#DejaVuSans-2e\" x=\"63.623047\"/>\n       <use xlink:href=\"#DejaVuSans-31\" x=\"95.410156\"/>\n       <use xlink:href=\"#DejaVuSans-37\" x=\"159.033203\"/>\n       <use xlink:href=\"#DejaVuSans-35\" x=\"222.65625\"/>\n      </g>\n     </g>\n    </g>\n    <g id=\"ytick_9\">\n     <g id=\"line2d_14\">\n      <g>\n       <use xlink:href=\"#m96a3ab246e\" x=\"56.50625\" y=\"11.503943\" style=\"stroke: #000000; stroke-width: 0.8\"/>\n      </g>\n     </g>\n     <g id=\"text_14\">\n      <!-- 0.200 -->\n      <g transform=\"translate(20.878125 15.303162) scale(0.1 -0.1)\">\n       <use xlink:href=\"#DejaVuSans-30\"/>\n       <use xlink:href=\"#DejaVuSans-2e\" x=\"63.623047\"/>\n       <use xlink:href=\"#DejaVuSans-32\" x=\"95.410156\"/>\n       <use xlink:href=\"#DejaVuSans-30\" x=\"159.033203\"/>\n       <use xlink:href=\"#DejaVuSans-30\" x=\"222.65625\"/>\n      </g>\n     </g>\n    </g>\n    <g id=\"text_15\">\n     <!-- Density -->\n     <g transform=\"translate(14.798437 159.264594) rotate(-90) scale(0.1 -0.1)\">\n      <defs>\n       <path id=\"DejaVuSans-44\" d=\"M 1259 4147 \nL 1259 519 \nL 2022 519 \nQ 2988 519 3436 956 \nQ 3884 1394 3884 2338 \nQ 3884 3275 3436 3711 \nQ 2988 4147 2022 4147 \nL 1259 4147 \nz\nM 628 4666 \nL 1925 4666 \nQ 3281 4666 3915 4102 \nQ 4550 3538 4550 2338 \nQ 4550 1131 3912 565 \nQ 3275 0 1925 0 \nL 628 0 \nL 628 4666 \nz\n\" transform=\"scale(0.015625)\"/>\n       <path id=\"DejaVuSans-65\" d=\"M 3597 1894 \nL 3597 1613 \nL 953 1613 \nQ 991 1019 1311 708 \nQ 1631 397 2203 397 \nQ 2534 397 2845 478 \nQ 3156 559 3463 722 \nL 3463 178 \nQ 3153 47 2828 -22 \nQ 2503 -91 2169 -91 \nQ 1331 -91 842 396 \nQ 353 884 353 1716 \nQ 353 2575 817 3079 \nQ 1281 3584 2069 3584 \nQ 2775 3584 3186 3129 \nQ 3597 2675 3597 1894 \nz\nM 3022 2063 \nQ 3016 2534 2758 2815 \nQ 2500 3097 2075 3097 \nQ 1594 3097 1305 2825 \nQ 1016 2553 972 2059 \nL 3022 2063 \nz\n\" transform=\"scale(0.015625)\"/>\n       <path id=\"DejaVuSans-6e\" d=\"M 3513 2113 \nL 3513 0 \nL 2938 0 \nL 2938 2094 \nQ 2938 2591 2744 2837 \nQ 2550 3084 2163 3084 \nQ 1697 3084 1428 2787 \nQ 1159 2491 1159 1978 \nL 1159 0 \nL 581 0 \nL 581 3500 \nL 1159 3500 \nL 1159 2956 \nQ 1366 3272 1645 3428 \nQ 1925 3584 2291 3584 \nQ 2894 3584 3203 3211 \nQ 3513 2838 3513 2113 \nz\n\" transform=\"scale(0.015625)\"/>\n       <path id=\"DejaVuSans-73\" d=\"M 2834 3397 \nL 2834 2853 \nQ 2591 2978 2328 3040 \nQ 2066 3103 1784 3103 \nQ 1356 3103 1142 2972 \nQ 928 2841 928 2578 \nQ 928 2378 1081 2264 \nQ 1234 2150 1697 2047 \nL 1894 2003 \nQ 2506 1872 2764 1633 \nQ 3022 1394 3022 966 \nQ 3022 478 2636 193 \nQ 2250 -91 1575 -91 \nQ 1294 -91 989 -36 \nQ 684 19 347 128 \nL 347 722 \nQ 666 556 975 473 \nQ 1284 391 1588 391 \nQ 1994 391 2212 530 \nQ 2431 669 2431 922 \nQ 2431 1156 2273 1281 \nQ 2116 1406 1581 1522 \nL 1381 1569 \nQ 847 1681 609 1914 \nQ 372 2147 372 2553 \nQ 372 3047 722 3315 \nQ 1072 3584 1716 3584 \nQ 2034 3584 2315 3537 \nQ 2597 3491 2834 3397 \nz\n\" transform=\"scale(0.015625)\"/>\n       <path id=\"DejaVuSans-69\" d=\"M 603 3500 \nL 1178 3500 \nL 1178 0 \nL 603 0 \nL 603 3500 \nz\nM 603 4863 \nL 1178 4863 \nL 1178 4134 \nL 603 4134 \nL 603 4863 \nz\n\" transform=\"scale(0.015625)\"/>\n       <path id=\"DejaVuSans-74\" d=\"M 1172 4494 \nL 1172 3500 \nL 2356 3500 \nL 2356 3053 \nL 1172 3053 \nL 1172 1153 \nQ 1172 725 1289 603 \nQ 1406 481 1766 481 \nL 2356 481 \nL 2356 0 \nL 1766 0 \nQ 1100 0 847 248 \nQ 594 497 594 1153 \nL 594 3053 \nL 172 3053 \nL 172 3500 \nL 594 3500 \nL 594 4494 \nL 1172 4494 \nz\n\" transform=\"scale(0.015625)\"/>\n       <path id=\"DejaVuSans-79\" d=\"M 2059 -325 \nQ 1816 -950 1584 -1140 \nQ 1353 -1331 966 -1331 \nL 506 -1331 \nL 506 -850 \nL 844 -850 \nQ 1081 -850 1212 -737 \nQ 1344 -625 1503 -206 \nL 1606 56 \nL 191 3500 \nL 800 3500 \nL 1894 763 \nL 2988 3500 \nL 3597 3500 \nL 2059 -325 \nz\n\" transform=\"scale(0.015625)\"/>\n      </defs>\n      <use xlink:href=\"#DejaVuSans-44\"/>\n      <use xlink:href=\"#DejaVuSans-65\" x=\"77.001953\"/>\n      <use xlink:href=\"#DejaVuSans-6e\" x=\"138.525391\"/>\n      <use xlink:href=\"#DejaVuSans-73\" x=\"201.904297\"/>\n      <use xlink:href=\"#DejaVuSans-69\" x=\"254.003906\"/>\n      <use xlink:href=\"#DejaVuSans-74\" x=\"281.787109\"/>\n      <use xlink:href=\"#DejaVuSans-79\" x=\"320.996094\"/>\n     </g>\n    </g>\n   </g>\n   <g id=\"line2d_15\">\n    <path d=\"M 72.738977 273.311998 \nL 89.053276 273.223811 \nL 92.316136 272.981798 \nL 93.947566 273.068598 \nL 95.578996 272.869904 \nL 97.210425 269.513171 \nL 98.841855 209.342962 \nL 100.473285 76.450829 \nL 102.104715 19.872 \nL 103.736145 74.661964 \nL 105.367575 139.354095 \nL 106.999005 184.745888 \nL 108.630435 210.688786 \nL 110.261864 227.540943 \nL 111.893294 240.022278 \nL 113.524724 248.564207 \nL 115.156154 253.90586 \nL 116.787584 257.03604 \nL 118.419014 259.520708 \nL 120.050444 261.180371 \nL 121.681874 262.519045 \nL 123.313303 263.229428 \nL 124.944733 264.383621 \nL 128.207593 267.022031 \nL 131.470453 269.491336 \nL 133.101883 270.193318 \nL 136.364742 271.243766 \nL 137.996172 271.42875 \nL 139.627602 271.205772 \nL 142.890462 270.284277 \nL 144.521892 270.096887 \nL 146.153322 270.515409 \nL 147.784752 271.173592 \nL 152.679041 272.399446 \nL 155.941901 272.774167 \nL 160.836191 273.150766 \nL 177.150489 273.27256 \nL 265.247703 273.308622 \nL 397.393523 273.311998 \nL 397.393523 273.311998 \n\" clip-path=\"url(#p5a340ea21c)\" style=\"fill: none; stroke: #1f77b4; stroke-width: 1.5; stroke-linecap: square\"/>\n   </g>\n   <g id=\"line2d_16\">\n    <path d=\"M 89.123487 273.228994 \nL 89.600172 272.116966 \nL 90.553541 261.950546 \nL 91.030225 259.30143 \nL 91.50691 249.212108 \nL 91.983594 235.403794 \nL 92.460279 235.558149 \nL 92.936963 229.014816 \nL 93.413648 205.357679 \nL 93.890332 204.138662 \nL 94.367017 211.397021 \nL 94.843701 187.152225 \nL 95.320385 177.058061 \nL 95.79707 196.936077 \nL 96.273754 182.777027 \nL 96.750439 161.251192 \nL 97.227123 184.122816 \nL 97.703808 186.514459 \nL 98.180492 158.766417 \nL 99.133861 191.086853 \nL 99.610546 165.662564 \nL 100.08723 166.856693 \nL 100.563915 193.607818 \nL 101.517284 165.951783 \nL 101.993968 193.611858 \nL 102.470653 191.851153 \nL 102.947337 171.819804 \nL 103.424022 192.441376 \nL 103.900706 203.561338 \nL 104.37739 182.844814 \nL 104.854075 192.075646 \nL 105.330759 211.753179 \nL 105.807444 196.675301 \nL 106.284128 194.244756 \nL 106.760813 216.192702 \nL 107.237497 210.185523 \nL 107.714182 199.518081 \nL 108.190866 218.090914 \nL 108.667551 221.585717 \nL 109.144235 207.78759 \nL 110.097604 229.898791 \nL 110.574289 217.726218 \nL 111.050973 220.861451 \nL 111.527658 235.032771 \nL 112.004342 227.681643 \nL 112.481027 223.811356 \nL 112.957711 237.630946 \nL 113.434395 236.538125 \nL 113.91108 228.760827 \nL 114.387764 239.036347 \nL 114.864449 243.377035 \nL 115.341133 234.89525 \nL 115.817818 240.026197 \nL 116.294502 247.939006 \nL 116.771187 241.567648 \nL 117.247871 241.690352 \nL 117.724556 250.644577 \nL 118.677925 244.303393 \nL 119.154609 252.111367 \nL 119.631294 252.910432 \nL 120.107978 247.841456 \nL 120.584663 252.910107 \nL 121.061347 256.563281 \nL 121.538031 251.818592 \nL 122.014716 253.707526 \nL 122.4914 258.905638 \nL 122.968085 255.805315 \nL 123.444769 254.910627 \nL 123.921454 260.205129 \nL 124.398138 259.422611 \nL 124.874823 256.844778 \nL 125.351507 260.923761 \nL 125.828192 262.181883 \nL 126.304876 259.182076 \nL 127.258245 264.080772 \nL 127.73493 261.560941 \nL 128.211614 261.995661 \nL 128.688299 265.203751 \nL 129.641668 262.873824 \nL 130.118352 265.8148 \nL 130.595036 265.820882 \nL 131.071721 264.06923 \nL 131.548405 266.121434 \nL 132.02509 267.266218 \nL 132.501774 265.520935 \nL 132.978459 266.406633 \nL 133.455143 268.159291 \nL 133.931828 266.907526 \nL 134.408512 266.771734 \nL 134.885197 268.666905 \nL 135.361881 268.190041 \nL 135.838566 267.364227 \nL 136.31525 268.921163 \nL 136.791935 269.188294 \nL 137.268619 268.085138 \nL 138.221988 269.922199 \nL 138.698673 268.981396 \nL 139.175357 269.279621 \nL 139.652041 270.37422 \nL 140.128726 269.736658 \nL 140.60541 269.443678 \nL 141.082095 270.55684 \nL 141.558779 270.449187 \nL 142.035464 269.835487 \nL 142.512148 270.65843 \nL 142.988833 270.979352 \nL 143.465517 270.306348 \nL 143.942202 270.745327 \nL 144.418886 271.356009 \nL 144.895571 270.819047 \nL 145.372255 270.850971 \nL 145.84894 271.565325 \nL 146.802309 271.003807 \nL 147.278993 271.642991 \nL 147.755677 271.687131 \nL 148.232362 271.257431 \nL 149.185731 271.951871 \nL 149.662415 271.544078 \nL 150.1391 271.70682 \nL 150.615784 272.122465 \nL 151.092469 271.838477 \nL 151.569153 271.770821 \nL 152.045838 272.216756 \nL 152.522522 272.123852 \nL 152.999207 271.898327 \nL 153.475891 272.252442 \nL 153.952576 272.318857 \nL 154.42926 272.01849 \nL 155.382629 272.478776 \nL 155.859314 272.240316 \nL 156.335998 272.285871 \nL 156.812682 272.576125 \nL 157.766051 272.324889 \nL 158.242736 272.597146 \nL 158.71942 272.579223 \nL 159.196105 272.398594 \nL 160.149474 272.717921 \nL 160.626158 272.53826 \nL 161.579527 272.791073 \nL 162.056212 272.639173 \nL 162.532896 272.620152 \nL 163.009581 272.821892 \nL 163.96295 272.671512 \nL 164.439634 272.848332 \nL 164.916319 272.873972 \nL 165.393003 272.747378 \nL 166.346372 272.931941 \nL 166.823056 272.811554 \nL 169.683163 272.978693 \nL 170.159848 272.90416 \nL 171.113217 273.035358 \nL 171.589901 272.949764 \nL 173.019955 273.009672 \nL 176.83343 273.108589 \nL 178.740168 273.164807 \nL 180.170222 273.172728 \nL 182.553644 273.178955 \nL 183.983697 273.310899 \nL 183.983697 273.310899 \n\" clip-path=\"url(#p5a340ea21c)\" style=\"fill: none; stroke: #ff7f0e; stroke-width: 1.5; stroke-linecap: square\"/>\n   </g>\n   <g id=\"patch_103\">\n    <path d=\"M 56.50625 273.312 \nL 56.50625 7.2 \n\" style=\"fill: none; stroke: #000000; stroke-width: 0.8; stroke-linejoin: miter; stroke-linecap: square\"/>\n   </g>\n   <g id=\"patch_104\">\n    <path d=\"M 413.62625 273.312 \nL 413.62625 7.2 \n\" style=\"fill: none; stroke: #000000; stroke-width: 0.8; stroke-linejoin: miter; stroke-linecap: square\"/>\n   </g>\n   <g id=\"patch_105\">\n    <path d=\"M 56.50625 273.312 \nL 413.62625 273.312 \n\" style=\"fill: none; stroke: #000000; stroke-width: 0.8; stroke-linejoin: miter; stroke-linecap: square\"/>\n   </g>\n   <g id=\"patch_106\">\n    <path d=\"M 56.50625 7.2 \nL 413.62625 7.2 \n\" style=\"fill: none; stroke: #000000; stroke-width: 0.8; stroke-linejoin: miter; stroke-linecap: square\"/>\n   </g>\n   <g id=\"legend_1\">\n    <g id=\"patch_107\">\n     <path d=\"M 324.459063 44.55625 \nL 406.62625 44.55625 \nQ 408.62625 44.55625 408.62625 42.55625 \nL 408.62625 14.2 \nQ 408.62625 12.2 406.62625 12.2 \nL 324.459063 12.2 \nQ 322.459063 12.2 322.459063 14.2 \nL 322.459063 42.55625 \nQ 322.459063 44.55625 324.459063 44.55625 \nz\n\" style=\"fill: #ffffff; opacity: 0.8; stroke: #cccccc; stroke-linejoin: miter\"/>\n    </g>\n    <g id=\"patch_108\">\n     <path d=\"M 326.459063 23.798437 \nL 346.459063 23.798437 \nL 346.459063 16.798437 \nL 326.459063 16.798437 \nz\n\" style=\"fill: #1f77b4; opacity: 0.4\"/>\n    </g>\n    <g id=\"text_16\">\n     <!-- prediction -->\n     <g transform=\"translate(354.459063 23.798437) scale(0.1 -0.1)\">\n      <defs>\n       <path id=\"DejaVuSans-70\" d=\"M 1159 525 \nL 1159 -1331 \nL 581 -1331 \nL 581 3500 \nL 1159 3500 \nL 1159 2969 \nQ 1341 3281 1617 3432 \nQ 1894 3584 2278 3584 \nQ 2916 3584 3314 3078 \nQ 3713 2572 3713 1747 \nQ 3713 922 3314 415 \nQ 2916 -91 2278 -91 \nQ 1894 -91 1617 61 \nQ 1341 213 1159 525 \nz\nM 3116 1747 \nQ 3116 2381 2855 2742 \nQ 2594 3103 2138 3103 \nQ 1681 3103 1420 2742 \nQ 1159 2381 1159 1747 \nQ 1159 1113 1420 752 \nQ 1681 391 2138 391 \nQ 2594 391 2855 752 \nQ 3116 1113 3116 1747 \nz\n\" transform=\"scale(0.015625)\"/>\n       <path id=\"DejaVuSans-72\" d=\"M 2631 2963 \nQ 2534 3019 2420 3045 \nQ 2306 3072 2169 3072 \nQ 1681 3072 1420 2755 \nQ 1159 2438 1159 1844 \nL 1159 0 \nL 581 0 \nL 581 3500 \nL 1159 3500 \nL 1159 2956 \nQ 1341 3275 1631 3429 \nQ 1922 3584 2338 3584 \nQ 2397 3584 2469 3576 \nQ 2541 3569 2628 3553 \nL 2631 2963 \nz\n\" transform=\"scale(0.015625)\"/>\n       <path id=\"DejaVuSans-64\" d=\"M 2906 2969 \nL 2906 4863 \nL 3481 4863 \nL 3481 0 \nL 2906 0 \nL 2906 525 \nQ 2725 213 2448 61 \nQ 2172 -91 1784 -91 \nQ 1150 -91 751 415 \nQ 353 922 353 1747 \nQ 353 2572 751 3078 \nQ 1150 3584 1784 3584 \nQ 2172 3584 2448 3432 \nQ 2725 3281 2906 2969 \nz\nM 947 1747 \nQ 947 1113 1208 752 \nQ 1469 391 1925 391 \nQ 2381 391 2643 752 \nQ 2906 1113 2906 1747 \nQ 2906 2381 2643 2742 \nQ 2381 3103 1925 3103 \nQ 1469 3103 1208 2742 \nQ 947 2381 947 1747 \nz\n\" transform=\"scale(0.015625)\"/>\n       <path id=\"DejaVuSans-63\" d=\"M 3122 3366 \nL 3122 2828 \nQ 2878 2963 2633 3030 \nQ 2388 3097 2138 3097 \nQ 1578 3097 1268 2742 \nQ 959 2388 959 1747 \nQ 959 1106 1268 751 \nQ 1578 397 2138 397 \nQ 2388 397 2633 464 \nQ 2878 531 3122 666 \nL 3122 134 \nQ 2881 22 2623 -34 \nQ 2366 -91 2075 -91 \nQ 1284 -91 818 406 \nQ 353 903 353 1747 \nQ 353 2603 823 3093 \nQ 1294 3584 2113 3584 \nQ 2378 3584 2631 3529 \nQ 2884 3475 3122 3366 \nz\n\" transform=\"scale(0.015625)\"/>\n       <path id=\"DejaVuSans-6f\" d=\"M 1959 3097 \nQ 1497 3097 1228 2736 \nQ 959 2375 959 1747 \nQ 959 1119 1226 758 \nQ 1494 397 1959 397 \nQ 2419 397 2687 759 \nQ 2956 1122 2956 1747 \nQ 2956 2369 2687 2733 \nQ 2419 3097 1959 3097 \nz\nM 1959 3584 \nQ 2709 3584 3137 3096 \nQ 3566 2609 3566 1747 \nQ 3566 888 3137 398 \nQ 2709 -91 1959 -91 \nQ 1206 -91 779 398 \nQ 353 888 353 1747 \nQ 353 2609 779 3096 \nQ 1206 3584 1959 3584 \nz\n\" transform=\"scale(0.015625)\"/>\n      </defs>\n      <use xlink:href=\"#DejaVuSans-70\"/>\n      <use xlink:href=\"#DejaVuSans-72\" x=\"63.476562\"/>\n      <use xlink:href=\"#DejaVuSans-65\" x=\"102.339844\"/>\n      <use xlink:href=\"#DejaVuSans-64\" x=\"163.863281\"/>\n      <use xlink:href=\"#DejaVuSans-69\" x=\"227.339844\"/>\n      <use xlink:href=\"#DejaVuSans-63\" x=\"255.123047\"/>\n      <use xlink:href=\"#DejaVuSans-74\" x=\"310.103516\"/>\n      <use xlink:href=\"#DejaVuSans-69\" x=\"349.3125\"/>\n      <use xlink:href=\"#DejaVuSans-6f\" x=\"377.095703\"/>\n      <use xlink:href=\"#DejaVuSans-6e\" x=\"438.277344\"/>\n     </g>\n    </g>\n    <g id=\"patch_109\">\n     <path d=\"M 326.459063 38.476562 \nL 346.459063 38.476562 \nL 346.459063 31.476562 \nL 326.459063 31.476562 \nz\n\" style=\"fill: #ff7f0e; opacity: 0.4\"/>\n    </g>\n    <g id=\"text_17\">\n     <!-- actual -->\n     <g transform=\"translate(354.459063 38.476562) scale(0.1 -0.1)\">\n      <defs>\n       <path id=\"DejaVuSans-61\" d=\"M 2194 1759 \nQ 1497 1759 1228 1600 \nQ 959 1441 959 1056 \nQ 959 750 1161 570 \nQ 1363 391 1709 391 \nQ 2188 391 2477 730 \nQ 2766 1069 2766 1631 \nL 2766 1759 \nL 2194 1759 \nz\nM 3341 1997 \nL 3341 0 \nL 2766 0 \nL 2766 531 \nQ 2569 213 2275 61 \nQ 1981 -91 1556 -91 \nQ 1019 -91 701 211 \nQ 384 513 384 1019 \nQ 384 1609 779 1909 \nQ 1175 2209 1959 2209 \nL 2766 2209 \nL 2766 2266 \nQ 2766 2663 2505 2880 \nQ 2244 3097 1772 3097 \nQ 1472 3097 1187 3025 \nQ 903 2953 641 2809 \nL 641 3341 \nQ 956 3463 1253 3523 \nQ 1550 3584 1831 3584 \nQ 2591 3584 2966 3190 \nQ 3341 2797 3341 1997 \nz\n\" transform=\"scale(0.015625)\"/>\n       <path id=\"DejaVuSans-75\" d=\"M 544 1381 \nL 544 3500 \nL 1119 3500 \nL 1119 1403 \nQ 1119 906 1312 657 \nQ 1506 409 1894 409 \nQ 2359 409 2629 706 \nQ 2900 1003 2900 1516 \nL 2900 3500 \nL 3475 3500 \nL 3475 0 \nL 2900 0 \nL 2900 538 \nQ 2691 219 2414 64 \nQ 2138 -91 1772 -91 \nQ 1169 -91 856 284 \nQ 544 659 544 1381 \nz\nM 1991 3584 \nL 1991 3584 \nz\n\" transform=\"scale(0.015625)\"/>\n       <path id=\"DejaVuSans-6c\" d=\"M 603 4863 \nL 1178 4863 \nL 1178 0 \nL 603 0 \nL 603 4863 \nz\n\" transform=\"scale(0.015625)\"/>\n      </defs>\n      <use xlink:href=\"#DejaVuSans-61\"/>\n      <use xlink:href=\"#DejaVuSans-63\" x=\"61.279297\"/>\n      <use xlink:href=\"#DejaVuSans-74\" x=\"116.259766\"/>\n      <use xlink:href=\"#DejaVuSans-75\" x=\"155.46875\"/>\n      <use xlink:href=\"#DejaVuSans-61\" x=\"218.847656\"/>\n      <use xlink:href=\"#DejaVuSans-6c\" x=\"280.126953\"/>\n     </g>\n    </g>\n   </g>\n  </g>\n </g>\n <defs>\n  <clipPath id=\"p5a340ea21c\">\n   <rect x=\"56.50625\" y=\"7.2\" width=\"357.12\" height=\"266.112\"/>\n  </clipPath>\n </defs>\n</svg>\n",
      "image/png": "[encoded data removed]"
     },
     "metadata": {}
    }
   ],
   "source": [
    "sns.distplot(y_pred, label='prediction')\n",
    "sns.distplot(y_train, label='actual')\n",
    "\n",
    "plt.legend()"
   ]
  },
  {
   "cell_type": "code",
   "execution_count": 75,
   "metadata": {},
   "outputs": [],
   "source": [
    "# read data and processing\n",
    "\n",
    "def read_data(filename):\n",
    "    if filename.endswith(\".csv\"):\n",
    "\n",
    "        df = pd.read_csv(filename)\n",
    "        df.lpep_dropoff_datetime = pd.to_datetime(df.lpep_dropoff_datetime)\n",
    "        df.lpep_pickup_datetime = pd.to_datetime(df.lpep_pickup_datetime)\n",
    "\n",
    "    elif filename.endswith(\".parquet\"):\n",
    "        df = pd.read_parquet(filename)\n",
    "\n",
    "    # extract y_value that will be usefull for training and compare with test predictions\n",
    "    df['duration'] = df.lpep_dropoff_datetime - df.lpep_pickup_datetime\n",
    "    df.duration = df.duration.apply(lambda td: td.total_seconds() / 60)\n",
    "    df = df[(df.duration >= 1) & (df.duration <= 60)]\n",
    "\n",
    "    categorical = ['PULocationID', 'DOLocationID']\n",
    "    df[categorical] = df[categorical].astype(str)\n",
    "\n",
    "    return df\n",
    "    \n",
    "    \n",
    "    \n"
   ]
  },
  {
   "cell_type": "code",
   "execution_count": 76,
   "metadata": {},
   "outputs": [],
   "source": [
    "df_train = read_data(\"./data/green_tripdata_2021-01.parquet\")\n",
    "df_val = read_data(\"./data/green_tripdata_2021-02.parquet\")"
   ]
  },
  {
   "cell_type": "code",
   "execution_count": 77,
   "metadata": {},
   "outputs": [
    {
     "output_type": "execute_result",
     "data": {
      "text/plain": [
       "(73908, 61921)"
      ]
     },
     "metadata": {},
     "execution_count": 77
    }
   ],
   "source": [
    "len(df_train), len(df_val)"
   ]
  },
  {
   "cell_type": "code",
   "execution_count": 78,
   "metadata": {},
   "outputs": [],
   "source": [
    "df_train[\"PU_DO\"] = df_train[\"PULocationID\"] + \"_\" + df_train[\"DOLocationID\"]\n",
    "df_val[\"PU_DO\"] = df_val[\"PULocationID\"] + \"_\" + df_val[\"DOLocationID\"]"
   ]
  },
  {
   "cell_type": "code",
   "execution_count": 79,
   "metadata": {},
   "outputs": [
    {
     "output_type": "execute_result",
     "data": {
      "text/plain": [
       "Index(['VendorID', 'lpep_pickup_datetime', 'lpep_dropoff_datetime',\n",
       "       'store_and_fwd_flag', 'RatecodeID', 'PULocationID', 'DOLocationID',\n",
       "       'passenger_count', 'trip_distance', 'fare_amount', 'extra', 'mta_tax',\n",
       "       'tip_amount', 'tolls_amount', 'ehail_fee', 'improvement_surcharge',\n",
       "       'total_amount', 'payment_type', 'trip_type', 'congestion_surcharge',\n",
       "       'duration', 'PU_DO'],\n",
       "      dtype='object')"
      ]
     },
     "metadata": {},
     "execution_count": 79
    }
   ],
   "source": [
    "df_train.columns"
   ]
  },
  {
   "cell_type": "code",
   "execution_count": 80,
   "metadata": {},
   "outputs": [],
   "source": [
    "categorical = [\"PU_DO\"]\n",
    "numerical = [\"trip_distance\"]\n",
    "\n",
    "dv = DictVectorizer()\n",
    "x_train_dics = df_train[categorical + numerical].to_dict(orient=\"records\")\n",
    "x_train = dv.fit_transform(x_train_dics)\n",
    "val_dicts = df_val[categorical + numerical].to_dict(orient=\"records\")\n",
    "x_val = dv.transform(val_dicts)\n",
    "\n"
   ]
  },
  {
   "cell_type": "code",
   "execution_count": 82,
   "metadata": {},
   "outputs": [],
   "source": [
    "target = \"duration\"\n",
    "y_train = df_train[target].values\n",
    "y_val = df_val[target].values"
   ]
  },
  {
   "cell_type": "code",
   "execution_count": 83,
   "metadata": {},
   "outputs": [],
   "source": [
    "lr = LinearRegression()\n",
    "lr.fit(x_train, y_train)\n",
    "y_pred_train = lr.predict(x_train)\n"
   ]
  },
  {
   "cell_type": "code",
   "execution_count": 84,
   "metadata": {},
   "outputs": [
    {
     "output_type": "execute_result",
     "data": {
      "text/plain": [
       "5.699564118198945"
      ]
     },
     "metadata": {},
     "execution_count": 84
    }
   ],
   "source": [
    "mean_squared_error(y_train, y_pred_train, squared=False)"
   ]
  },
  {
   "cell_type": "code",
   "execution_count": 85,
   "metadata": {},
   "outputs": [],
   "source": [
    "with open('./models/lin_reg.bin', 'wb') as f_out:\n",
    "    pickle.dump((dv, lr), f_out)"
   ]
  },
  {
   "cell_type": "code",
   "execution_count": 86,
   "metadata": {},
   "outputs": [
    {
     "output_type": "execute_result",
     "data": {
      "text/plain": [
       "8.345478908061276"
      ]
     },
     "metadata": {},
     "execution_count": 86
    }
   ],
   "source": [
    "lr = Lasso(0.001)\n",
    "lr.fit(x_train, y_train)\n",
    "y_pred = lr.predict(x_train)\n",
    "mean_squared_error(y_train, y_pred, squared=False)"
   ]
  },
  {
   "source": [],
   "cell_type": "markdown",
   "metadata": {}
  },
  {
   "cell_type": "code",
   "execution_count": null,
   "metadata": {},
   "outputs": [],
   "source": []
  },
  {
   "source": [],
   "cell_type": "markdown",
   "metadata": {}
  }
 ],
 "metadata": {
  "kernelspec": {
   "name": "python3",
   "display_name": "Python 3.8.16 64-bit ('mlops': conda)",
   "metadata": {
    "interpreter": {
     "hash": "2cb7cb136e60a6799112a683ef2b539b1269bfab8788aa7a8523af210a00ceec"
    }
   }
  },
  "language_info": {
   "codemirror_mode": {
    "name": "ipython",
    "version": 3
   },
   "file_extension": ".py",
   "mimetype": "text/x-python",
   "name": "python",
   "nbconvert_exporter": "python",
   "pygments_lexer": "ipython3",
   "version": "3.8.16-final"
  },
  "orig_nbformat": 2
 },
 "nbformat": 4,
 "nbformat_minor": 2
}