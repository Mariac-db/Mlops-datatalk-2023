{
 "cells": [
  {
   "cell_type": "markdown",
   "metadata": {},
   "source": [
    "# Development enviroment"
   ]
  },
  {
   "cell_type": "markdown",
   "metadata": {},
   "source": [
    "# 1. Create a project in a new directory\n",
    "\n",
    "\n",
    "```bash\n",
    "mkdir my-project\n",
    "cd my-project\n",
    "prefect project init   \n",
    "```\n"
   ]
  },
  {
   "cell_type": "markdown",
   "metadata": {},
   "source": [
    "* my-project\n",
    "\n",
    "prefect-yaml -> contains versions, name project, build (docker), push and pull (repo information)\n",
    "\n",
    "* deployment\n",
    "\n",
    "deployment.yaml -> contains metadata, flow fields and paths.\n"
   ]
  },
  {
   "cell_type": "markdown",
   "metadata": {},
   "source": [
    "# 2. Add an @flow decorator \n",
    "\n",
    "adds to your codes entrypoint fuctions, give it a name, and save it to the new directory\n",
    "\n",
    "* editing my-flow.py"
   ]
  },
  {
   "cell_type": "markdown",
   "metadata": {},
   "source": [
    "# 3. Login to prefect cloud\n",
    "\n",
    "```bash\n",
    "prefect cloud login \n",
    "```\n",
    "OR\n",
    "\n",
    "```bash\n",
    "prefect server start  (my favorite)\n",
    "```\n",
    "\n"
   ]
  },
  {
   "cell_type": "markdown",
   "metadata": {},
   "source": [
    "# 4. Execution env\n",
    "\n",
    "* start a worker that polls your work poool\n",
    "\n",
    "\n",
    "```bash\n",
    "prefect worker start -p my-pool -t process\n",
    "```\n",
    "\n",
    "\n"
   ]
  },
  {
   "cell_type": "markdown",
   "metadata": {},
   "source": [
    "# 5. Deploy your flow\n",
    "\n",
    "```bash\n",
    "prefect deploy my-flow.py:say hello -n \"my-deployment\" -p my pool\n",
    "```\n"
   ]
  },
  {
   "cell_type": "markdown",
   "metadata": {},
   "source": [
    "# 6. Start run of the deployed from the CLI\n",
    "\n",
    "```bash\n",
    "prefect deployment run Hello/my-deployment\n",
    "```\n"
   ]
  },
  {
   "cell_type": "markdown",
   "metadata": {},
   "source": [
    "Para obtener info en deploy\n",
    "\n",
    "prefect deploy --help\n",
    "prefect deploy 3.4/module.py:main_flow (el entrypoint) -n taxi1\n",
    " "
   ]
  }
 ],
 "metadata": {
  "kernelspec": {
   "display_name": "Python 3.8.16 64-bit ('mlops': conda)",
   "metadata": {
    "interpreter": {
     "hash": "2cb7cb136e60a6799112a683ef2b539b1269bfab8788aa7a8523af210a00ceec"
    }
   },
   "name": "python3"
  },
  "language_info": {
   "name": "python",
   "nbconvert_exporter": "python",
   "version": "3.8.16-final"
  },
  "orig_nbformat": 2
 },
 "nbformat": 4,
 "nbformat_minor": 2
}